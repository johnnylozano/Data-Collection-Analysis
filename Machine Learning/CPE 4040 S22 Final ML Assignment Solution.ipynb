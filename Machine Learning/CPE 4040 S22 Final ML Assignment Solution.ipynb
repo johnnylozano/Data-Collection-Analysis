{
 "cells": [
  {
   "cell_type": "markdown",
   "metadata": {},
   "source": [
    "# CPE 4040 Spring 22 Final: Machine Learning Assignment\n",
    "## Johnny Lozano\n",
    "\n",
    "In this semi-guided assignment, you will analyze two datasets for Machine Learning modeling: one for logistic regression and one for linear regression.\n",
    " \n",
    "### General guidelines:\n",
    " * Do each part of the assignment in a clean and logical manner.\n",
    " * Make comments and offer insight on your codes. Coding with no or poor comments will result in point deduction.\n",
    " * This is an individual assignment.\n",
    " * No plagiarism: you are encouraged to do research, however, do your own work. Do not copy-and-paste other people's work.    \n",
    "\n",
    "### Submission:\n",
    " * Submit this notebook file and the pdf version - remember to add your name in the filename.\n",
    " * Deadline: 11:59 pm, 5/6 (Friday)"
   ]
  },
  {
   "cell_type": "markdown",
   "metadata": {},
   "source": [
    "## Part 1: Logistic Regression - The PIMA Diabetic Data Set (50 Points)\n",
    "\n",
    "We performed exploratory analyses on this dataset in Midterm 2. \n",
    "\n",
    "#### In this part, you will build a diabetic outcome prediction model based on **Logistic Regression**.\n",
    "\n",
    "#### The filename, \"diabetes_clean.csv\", is an updated version of the dataset after some cleaning. Do not use the original dataset.\n",
    "\n",
    "The dataset contains the following features/columns:\n",
    "\n",
    " * Pregnancies: Number of times pregnant\n",
    " * Glucose: Plasma glucose concentration at 2 hour in an oral glucose tolerance test (mg/dL)\n",
    " * BloodPressure: Diastolic blood pressure (mm Hg)\n",
    " * SkinThickness: Triceps skin fold thickness (mm)\n",
    " * Insulin: 2-hour serum insulin level (mu U/ml)\n",
    " * BMI: Body mass index (weight in kg/(height in m)^2)\n",
    " * DiabetesPedigreeFunction: a function which scores likelihood of diabetes based on family history\n",
    " * Age: age of patients (years)\n",
    " * Outcome: class variable 0 or 1 indicating disease (0: non-diabetic, 1: diabetic)\n"
   ]
  },
  {
   "cell_type": "markdown",
   "metadata": {},
   "source": [
    "### Import the libraries you need for the analysis"
   ]
  },
  {
   "cell_type": "code",
   "execution_count": 241,
   "metadata": {},
   "outputs": [],
   "source": [
    "import numpy as np\n",
    "import pandas as pd\n",
    "import matplotlib.pyplot as plt\n",
    "import seaborn as sns"
   ]
  },
  {
   "cell_type": "markdown",
   "metadata": {},
   "source": [
    "### Step 1: Load Data\n",
    " 1. Load the dataset in a pandas DataFrame\n",
    " 2. Examine the basic statistics for each column (Hint: use df.describe( ))"
   ]
  },
  {
   "cell_type": "code",
   "execution_count": 242,
   "metadata": {},
   "outputs": [],
   "source": [
    "df = pd.read_csv('diabetes_clean.csv')"
   ]
  },
  {
   "cell_type": "code",
   "execution_count": 243,
   "metadata": {},
   "outputs": [
    {
     "data": {
      "text/html": [
       "<div>\n",
       "<style scoped>\n",
       "    .dataframe tbody tr th:only-of-type {\n",
       "        vertical-align: middle;\n",
       "    }\n",
       "\n",
       "    .dataframe tbody tr th {\n",
       "        vertical-align: top;\n",
       "    }\n",
       "\n",
       "    .dataframe thead th {\n",
       "        text-align: right;\n",
       "    }\n",
       "</style>\n",
       "<table border=\"1\" class=\"dataframe\">\n",
       "  <thead>\n",
       "    <tr style=\"text-align: right;\">\n",
       "      <th></th>\n",
       "      <th>Pregnancies</th>\n",
       "      <th>Glucose</th>\n",
       "      <th>BloodPressure</th>\n",
       "      <th>SkinThickness</th>\n",
       "      <th>Insulin</th>\n",
       "      <th>BMI</th>\n",
       "      <th>DiabetesPedigreeFunction</th>\n",
       "      <th>Age</th>\n",
       "      <th>Outcome</th>\n",
       "    </tr>\n",
       "  </thead>\n",
       "  <tbody>\n",
       "    <tr>\n",
       "      <th>count</th>\n",
       "      <td>768.000000</td>\n",
       "      <td>768.000000</td>\n",
       "      <td>768.000000</td>\n",
       "      <td>768.000000</td>\n",
       "      <td>768.000000</td>\n",
       "      <td>768.000000</td>\n",
       "      <td>768.000000</td>\n",
       "      <td>768.000000</td>\n",
       "      <td>768.000000</td>\n",
       "    </tr>\n",
       "    <tr>\n",
       "      <th>mean</th>\n",
       "      <td>3.845052</td>\n",
       "      <td>121.656250</td>\n",
       "      <td>72.386719</td>\n",
       "      <td>29.108073</td>\n",
       "      <td>140.671875</td>\n",
       "      <td>32.455208</td>\n",
       "      <td>0.471876</td>\n",
       "      <td>33.240885</td>\n",
       "      <td>0.348958</td>\n",
       "    </tr>\n",
       "    <tr>\n",
       "      <th>std</th>\n",
       "      <td>3.369578</td>\n",
       "      <td>30.438286</td>\n",
       "      <td>12.096642</td>\n",
       "      <td>8.791221</td>\n",
       "      <td>86.383060</td>\n",
       "      <td>6.875177</td>\n",
       "      <td>0.331329</td>\n",
       "      <td>11.760232</td>\n",
       "      <td>0.476951</td>\n",
       "    </tr>\n",
       "    <tr>\n",
       "      <th>min</th>\n",
       "      <td>0.000000</td>\n",
       "      <td>44.000000</td>\n",
       "      <td>24.000000</td>\n",
       "      <td>7.000000</td>\n",
       "      <td>14.000000</td>\n",
       "      <td>18.200000</td>\n",
       "      <td>0.078000</td>\n",
       "      <td>21.000000</td>\n",
       "      <td>0.000000</td>\n",
       "    </tr>\n",
       "    <tr>\n",
       "      <th>25%</th>\n",
       "      <td>1.000000</td>\n",
       "      <td>99.750000</td>\n",
       "      <td>64.000000</td>\n",
       "      <td>25.000000</td>\n",
       "      <td>121.500000</td>\n",
       "      <td>27.500000</td>\n",
       "      <td>0.243750</td>\n",
       "      <td>24.000000</td>\n",
       "      <td>0.000000</td>\n",
       "    </tr>\n",
       "    <tr>\n",
       "      <th>50%</th>\n",
       "      <td>3.000000</td>\n",
       "      <td>117.000000</td>\n",
       "      <td>72.000000</td>\n",
       "      <td>29.000000</td>\n",
       "      <td>125.000000</td>\n",
       "      <td>32.300000</td>\n",
       "      <td>0.372500</td>\n",
       "      <td>29.000000</td>\n",
       "      <td>0.000000</td>\n",
       "    </tr>\n",
       "    <tr>\n",
       "      <th>75%</th>\n",
       "      <td>6.000000</td>\n",
       "      <td>140.250000</td>\n",
       "      <td>80.000000</td>\n",
       "      <td>32.000000</td>\n",
       "      <td>127.250000</td>\n",
       "      <td>36.600000</td>\n",
       "      <td>0.626250</td>\n",
       "      <td>41.000000</td>\n",
       "      <td>1.000000</td>\n",
       "    </tr>\n",
       "    <tr>\n",
       "      <th>max</th>\n",
       "      <td>17.000000</td>\n",
       "      <td>199.000000</td>\n",
       "      <td>122.000000</td>\n",
       "      <td>99.000000</td>\n",
       "      <td>846.000000</td>\n",
       "      <td>67.100000</td>\n",
       "      <td>2.420000</td>\n",
       "      <td>81.000000</td>\n",
       "      <td>1.000000</td>\n",
       "    </tr>\n",
       "  </tbody>\n",
       "</table>\n",
       "</div>"
      ],
      "text/plain": [
       "       Pregnancies     Glucose  BloodPressure  SkinThickness     Insulin  \\\n",
       "count   768.000000  768.000000     768.000000     768.000000  768.000000   \n",
       "mean      3.845052  121.656250      72.386719      29.108073  140.671875   \n",
       "std       3.369578   30.438286      12.096642       8.791221   86.383060   \n",
       "min       0.000000   44.000000      24.000000       7.000000   14.000000   \n",
       "25%       1.000000   99.750000      64.000000      25.000000  121.500000   \n",
       "50%       3.000000  117.000000      72.000000      29.000000  125.000000   \n",
       "75%       6.000000  140.250000      80.000000      32.000000  127.250000   \n",
       "max      17.000000  199.000000     122.000000      99.000000  846.000000   \n",
       "\n",
       "              BMI  DiabetesPedigreeFunction         Age     Outcome  \n",
       "count  768.000000                768.000000  768.000000  768.000000  \n",
       "mean    32.455208                  0.471876   33.240885    0.348958  \n",
       "std      6.875177                  0.331329   11.760232    0.476951  \n",
       "min     18.200000                  0.078000   21.000000    0.000000  \n",
       "25%     27.500000                  0.243750   24.000000    0.000000  \n",
       "50%     32.300000                  0.372500   29.000000    0.000000  \n",
       "75%     36.600000                  0.626250   41.000000    1.000000  \n",
       "max     67.100000                  2.420000   81.000000    1.000000  "
      ]
     },
     "execution_count": 243,
     "metadata": {},
     "output_type": "execute_result"
    }
   ],
   "source": [
    "df.describe()"
   ]
  },
  {
   "cell_type": "markdown",
   "metadata": {},
   "source": [
    "### Step 2: Find Correlations Between Column Data\n",
    "\n",
    " 1. Calculate the correlation matrix of the dataset.\n",
    " 2. Plot a **heatmap** (showing the coefficients) for the resulting correlation matrix."
   ]
  },
  {
   "cell_type": "code",
   "execution_count": 244,
   "metadata": {},
   "outputs": [
    {
     "data": {
      "image/png": "[encoded data removed]",
      "text/plain": [
       "<Figure size 864x432 with 2 Axes>"
      ]
     },
     "metadata": {
      "needs_background": "light"
     },
     "output_type": "display_data"
    }
   ],
   "source": [
    "corr = df.corr()\n",
    "\n",
    "plt.figure(figsize=(12,6))\n",
    "sns.heatmap(corr, annot=True)\n",
    "plt.show()"
   ]
  },
  {
   "cell_type": "markdown",
   "metadata": {},
   "source": [
    " 3. Write a code to find the top 3 column features that have the highest correlation with the \"Outcome\" column.\n",
    " 4. Create a **pairplot** for only the three column features identified in 3. The purpose is to observe how those features are correlated to each other."
   ]
  },
  {
   "cell_type": "code",
   "execution_count": 282,
   "metadata": {},
   "outputs": [
    {
     "data": {
      "text/plain": [
       "Glucose    0.492782\n",
       "BMI        0.312038\n",
       "Age        0.238356\n",
       "Name: Outcome, dtype: float64"
      ]
     },
     "execution_count": 282,
     "metadata": {},
     "output_type": "execute_result"
    }
   ],
   "source": [
    "corr['Outcome'].nlargest(4)[1:4]"
   ]
  },
  {
   "cell_type": "code",
   "execution_count": 283,
   "metadata": {},
   "outputs": [
    {
     "data": {
      "text/plain": [
       "<Figure size 864x432 with 0 Axes>"
      ]
     },
     "metadata": {},
     "output_type": "display_data"
    },
    {
     "data": {
      "image/png": "[encoded data removed]",
      "text/plain": [
       "<Figure size 540x540 with 12 Axes>"
      ]
     },
     "metadata": {
      "needs_background": "light"
     },
     "output_type": "display_data"
    }
   ],
   "source": [
    "df_1 = df[['Glucose','BMI','Age']]\n",
    "\n",
    "plt.figure(figsize=(12,6))\n",
    "sns.pairplot(df_1)\n",
    "plt.show()"
   ]
  },
  {
   "cell_type": "markdown",
   "metadata": {},
   "source": [
    "## Step 3: Regression Model and Outcome Prediction\n",
    "\n",
    "### Step 3.1: Train-Test Split"
   ]
  },
  {
   "cell_type": "markdown",
   "metadata": {},
   "source": [
    "**Since we want to classify whether a patient is diabetic or not, the output (target) will be the \"Outcome\" column. The rest of the columns will be the input (features). So you will drop the Outcome column from the dataset and make it X and pick the Outcome column and make it y.**"
   ]
  },
  {
   "cell_type": "code",
   "execution_count": 266,
   "metadata": {},
   "outputs": [],
   "source": [
    "from sklearn.model_selection import train_test_split\n",
    "from sklearn.linear_model import LogisticRegression\n",
    "from sklearn.metrics import confusion_matrix\n",
    "from sklearn.metrics import classification_report"
   ]
  },
  {
   "cell_type": "code",
   "execution_count": 269,
   "metadata": {},
   "outputs": [],
   "source": [
    "# Set up X (features) and y (target)\n",
    "X = df.drop('Outcome', axis=1)\n",
    "y = df['Outcome']"
   ]
  },
  {
   "cell_type": "markdown",
   "metadata": {},
   "source": [
    "### Step 3.1.1: Normalizing Data in X (Features) \n",
    "#### This step was not covered in class, however, it can help the performace, as well as yield a better interpretation of the regression model. \n",
    "#### Follow the instruction below:\n",
    "   * Calcuate the means and standard deviation for each column of **X** \n",
    "   * Normalize each column of **X** by the equation: **X = $\\frac{(X - means)}{stdev}$**"
   ]
  },
  {
   "cell_type": "code",
   "execution_count": 270,
   "metadata": {},
   "outputs": [
    {
     "name": "stdout",
     "output_type": "stream",
     "text": [
      "Pregnancies                  3.367384\n",
      "Glucose                     30.418463\n",
      "BloodPressure               12.088764\n",
      "SkinThickness                8.785496\n",
      "Insulin                     86.326802\n",
      "BMI                          6.870699\n",
      "DiabetesPedigreeFunction     0.331113\n",
      "Age                         11.752573\n",
      "dtype: float64\n"
     ]
    }
   ],
   "source": [
    "# Normalize the data with means and standard deviation \n",
    "means = np.mean(X, axis=0)\n",
    "stds = np.std(X, axis=0)\n",
    "\n",
    "print (stds)\n",
    "X = (X - means)/stds"
   ]
  },
  {
   "cell_type": "markdown",
   "metadata": {},
   "source": [
    "### Step 3.1.2: Split the dataset into training set and testing set using proper Sklearn package. \n",
    "#### Use a test size of 30% and your own arbitrary number for random_state."
   ]
  },
  {
   "cell_type": "code",
   "execution_count": 277,
   "metadata": {},
   "outputs": [],
   "source": [
    "# Split test and train data with test_data = 30% and random_state = 1\n",
    "X_train, X_test, y_train, y_test = train_test_split(X, y, test_size=0.30, random_state=1)"
   ]
  },
  {
   "cell_type": "code",
   "execution_count": 263,
   "metadata": {},
   "outputs": [
    {
     "data": {
      "text/plain": [
       "(537, 8)"
      ]
     },
     "execution_count": 263,
     "metadata": {},
     "output_type": "execute_result"
    }
   ],
   "source": [
    "X_train.shape"
   ]
  },
  {
   "cell_type": "code",
   "execution_count": 272,
   "metadata": {},
   "outputs": [
    {
     "data": {
      "text/html": [
       "<div>\n",
       "<style scoped>\n",
       "    .dataframe tbody tr th:only-of-type {\n",
       "        vertical-align: middle;\n",
       "    }\n",
       "\n",
       "    .dataframe tbody tr th {\n",
       "        vertical-align: top;\n",
       "    }\n",
       "\n",
       "    .dataframe thead th {\n",
       "        text-align: right;\n",
       "    }\n",
       "</style>\n",
       "<table border=\"1\" class=\"dataframe\">\n",
       "  <thead>\n",
       "    <tr style=\"text-align: right;\">\n",
       "      <th></th>\n",
       "      <th>Pregnancies</th>\n",
       "      <th>Glucose</th>\n",
       "      <th>BloodPressure</th>\n",
       "      <th>SkinThickness</th>\n",
       "      <th>Insulin</th>\n",
       "      <th>BMI</th>\n",
       "      <th>DiabetesPedigreeFunction</th>\n",
       "      <th>Age</th>\n",
       "    </tr>\n",
       "  </thead>\n",
       "  <tbody>\n",
       "    <tr>\n",
       "      <th>count</th>\n",
       "      <td>537.000000</td>\n",
       "      <td>537.000000</td>\n",
       "      <td>537.000000</td>\n",
       "      <td>537.000000</td>\n",
       "      <td>537.000000</td>\n",
       "      <td>537.000000</td>\n",
       "      <td>537.000000</td>\n",
       "      <td>537.000000</td>\n",
       "    </tr>\n",
       "    <tr>\n",
       "      <th>mean</th>\n",
       "      <td>0.011728</td>\n",
       "      <td>0.031197</td>\n",
       "      <td>0.028857</td>\n",
       "      <td>0.005080</td>\n",
       "      <td>0.015363</td>\n",
       "      <td>0.029069</td>\n",
       "      <td>0.014473</td>\n",
       "      <td>-0.027310</td>\n",
       "    </tr>\n",
       "    <tr>\n",
       "      <th>std</th>\n",
       "      <td>0.998435</td>\n",
       "      <td>1.020994</td>\n",
       "      <td>1.029901</td>\n",
       "      <td>0.949695</td>\n",
       "      <td>1.044869</td>\n",
       "      <td>1.030674</td>\n",
       "      <td>1.024759</td>\n",
       "      <td>0.980506</td>\n",
       "    </tr>\n",
       "    <tr>\n",
       "      <th>min</th>\n",
       "      <td>-1.141852</td>\n",
       "      <td>-2.552931</td>\n",
       "      <td>-4.002619</td>\n",
       "      <td>-2.402605</td>\n",
       "      <td>-1.467353</td>\n",
       "      <td>-2.074783</td>\n",
       "      <td>-1.189553</td>\n",
       "      <td>-1.041549</td>\n",
       "    </tr>\n",
       "    <tr>\n",
       "      <th>25%</th>\n",
       "      <td>-0.844885</td>\n",
       "      <td>-0.711944</td>\n",
       "      <td>-0.693761</td>\n",
       "      <td>-0.467597</td>\n",
       "      <td>-0.239461</td>\n",
       "      <td>-0.692100</td>\n",
       "      <td>-0.685193</td>\n",
       "      <td>-0.786286</td>\n",
       "    </tr>\n",
       "    <tr>\n",
       "      <th>50%</th>\n",
       "      <td>-0.250952</td>\n",
       "      <td>-0.120198</td>\n",
       "      <td>-0.031990</td>\n",
       "      <td>-0.012301</td>\n",
       "      <td>-0.181541</td>\n",
       "      <td>-0.022590</td>\n",
       "      <td>-0.277477</td>\n",
       "      <td>-0.360847</td>\n",
       "    </tr>\n",
       "    <tr>\n",
       "      <th>75%</th>\n",
       "      <td>0.639947</td>\n",
       "      <td>0.701671</td>\n",
       "      <td>0.629782</td>\n",
       "      <td>0.329171</td>\n",
       "      <td>-0.181541</td>\n",
       "      <td>0.632365</td>\n",
       "      <td>0.429230</td>\n",
       "      <td>0.575118</td>\n",
       "    </tr>\n",
       "    <tr>\n",
       "      <th>max</th>\n",
       "      <td>3.906578</td>\n",
       "      <td>2.542658</td>\n",
       "      <td>4.104082</td>\n",
       "      <td>3.857714</td>\n",
       "      <td>6.988885</td>\n",
       "      <td>5.042397</td>\n",
       "      <td>5.883565</td>\n",
       "      <td>4.063716</td>\n",
       "    </tr>\n",
       "  </tbody>\n",
       "</table>\n",
       "</div>"
      ],
      "text/plain": [
       "       Pregnancies     Glucose  BloodPressure  SkinThickness     Insulin  \\\n",
       "count   537.000000  537.000000     537.000000     537.000000  537.000000   \n",
       "mean      0.011728    0.031197       0.028857       0.005080    0.015363   \n",
       "std       0.998435    1.020994       1.029901       0.949695    1.044869   \n",
       "min      -1.141852   -2.552931      -4.002619      -2.402605   -1.467353   \n",
       "25%      -0.844885   -0.711944      -0.693761      -0.467597   -0.239461   \n",
       "50%      -0.250952   -0.120198      -0.031990      -0.012301   -0.181541   \n",
       "75%       0.639947    0.701671       0.629782       0.329171   -0.181541   \n",
       "max       3.906578    2.542658       4.104082       3.857714    6.988885   \n",
       "\n",
       "              BMI  DiabetesPedigreeFunction         Age  \n",
       "count  537.000000                537.000000  537.000000  \n",
       "mean     0.029069                  0.014473   -0.027310  \n",
       "std      1.030674                  1.024759    0.980506  \n",
       "min     -2.074783                 -1.189553   -1.041549  \n",
       "25%     -0.692100                 -0.685193   -0.786286  \n",
       "50%     -0.022590                 -0.277477   -0.360847  \n",
       "75%      0.632365                  0.429230    0.575118  \n",
       "max      5.042397                  5.883565    4.063716  "
      ]
     },
     "execution_count": 272,
     "metadata": {},
     "output_type": "execute_result"
    }
   ],
   "source": [
    "X_train.describe()"
   ]
  },
  {
   "cell_type": "markdown",
   "metadata": {},
   "source": [
    "### Step 3.2: Train and Fit Your Model"
   ]
  },
  {
   "cell_type": "markdown",
   "metadata": {},
   "source": [
    "**Use Sklearn package on the training data and obtain the prediction model.**"
   ]
  },
  {
   "cell_type": "code",
   "execution_count": 278,
   "metadata": {},
   "outputs": [
    {
     "data": {
      "text/plain": [
       "LogisticRegression(max_iter=300)"
      ]
     },
     "execution_count": 278,
     "metadata": {},
     "output_type": "execute_result"
    }
   ],
   "source": [
    "# Make the Regression model\n",
    "lr_model = LogisticRegression(max_iter=300)\n",
    "lr_model.fit(X_train, y_train)"
   ]
  },
  {
   "cell_type": "markdown",
   "metadata": {},
   "source": [
    "### Step 3.3: Prediction and Model Evaluation\n",
    "### Step 3.3.1. Use Sklearn package to predict the outcomes on the test data. \n",
    "#### How many positive predictions (i.e., diabetic) from the testing data?"
   ]
  },
  {
   "cell_type": "code",
   "execution_count": 279,
   "metadata": {},
   "outputs": [
    {
     "name": "stdout",
     "output_type": "stream",
     "text": [
      "There are 63 predicted positive outcomes for diabetic.\n"
     ]
    }
   ],
   "source": [
    "prediction = lr_model.predict(X_test)\n",
    "\n",
    "print(\"There are %s predicted positive outcomes for diabetic.\"%prediction.sum())"
   ]
  },
  {
   "cell_type": "markdown",
   "metadata": {},
   "source": [
    "<h3>Step 3.3.2. Use Sklearn package to create the Confusion Matrix.</h3>\n",
    "<h4>What are the values of TP (True Positive), TN (True Negative), FP (False Positive) and FN (False Negative)? As a reminder, \"positive\" means \"diabetic\" and vice versa. </h4>"
   ]
  },
  {
   "cell_type": "code",
   "execution_count": 280,
   "metadata": {},
   "outputs": [
    {
     "name": "stdout",
     "output_type": "stream",
     "text": [
      "[[ 48  37]\n",
      " [ 15 131]]\n",
      "\n",
      "TP =  48 \n",
      "TN =  131 \n",
      "FP =  15 \n",
      "FN =  37\n"
     ]
    }
   ],
   "source": [
    "confusion = confusion_matrix(y_test,prediction, labels=[1,0])\n",
    "print(confusion)\n",
    "\n",
    "TP = confusion[0,0]\n",
    "TN = confusion[1,1]\n",
    "FN = confusion[0,1]\n",
    "FP = confusion[1,0]\n",
    "\n",
    "print('\\nTP = ',TP,'\\nTN = ',TN,'\\nFP = ',FP,'\\nFN = ',FN )"
   ]
  },
  {
   "cell_type": "markdown",
   "metadata": {},
   "source": [
    "<h3>Step 3.3.3. Use Sklearn package to create the Classification Report.</h3>\n",
    "<h4>What are the values of Accuracy, Precision, Recall, and Specificity? (You may want to refer back to the lecture note for the definition)</h4>"
   ]
  },
  {
   "cell_type": "code",
   "execution_count": 281,
   "metadata": {},
   "outputs": [
    {
     "name": "stdout",
     "output_type": "stream",
     "text": [
      "              precision    recall  f1-score   support\n",
      "\n",
      "           0       0.78      0.90      0.83       146\n",
      "           1       0.76      0.56      0.65        85\n",
      "\n",
      "    accuracy                           0.77       231\n",
      "   macro avg       0.77      0.73      0.74       231\n",
      "weighted avg       0.77      0.77      0.77       231\n",
      "\n",
      "Accuracy = 0.7748917748917749 \n",
      "Precision =  0.7619047619047619 \n",
      "Recall =  0.5647058823529412 \n",
      "Specificity =  0.8972602739726028\n"
     ]
    }
   ],
   "source": [
    "print(classification_report(y_test,prediction))\n",
    "\n",
    "# Values for each using confusion matrix.\n",
    "\n",
    "accuracy = (TP + TN)/len(X_test)\n",
    "precision = (TP)/(TP+FP)\n",
    "recall = (TP)/(TP+FN)\n",
    "specificity = (TN)/(TN+FP)\n",
    "\n",
    "print('Accuracy =',accuracy, '\\nPrecision = ',precision, '\\nRecall = ',recall, '\\nSpecificity = ',specificity)"
   ]
  },
  {
   "cell_type": "markdown",
   "metadata": {},
   "source": [
    "## Step 4: Interpreting the Prediction Model\n",
    "\n",
    "**To get a better sense of the logistic regression model, we will retrieve the regression coefficients and visualize which features have greater impact on the prediction outcome.**\n",
    "\n",
    "### Step 4.1. Follow the instruction:\n",
    " 1. Use \"coeff = list(lr_model.coef_[0])\" to obtain the regression coefficients, where lr_model is the name of your model.\n",
    " 2. Make a **horizontal bar chart** with the feature lables (i.e., Glucose, BMI, etc.) in the y-axis and the coefficients in the x-axis. **Order the coefficents in descending order**."
   ]
  },
  {
   "cell_type": "code",
   "execution_count": 258,
   "metadata": {},
   "outputs": [
    {
     "name": "stdout",
     "output_type": "stream",
     "text": [
      "BloodPressure              -0.135790\n",
      "Insulin                    -0.058188\n",
      "SkinThickness              -0.057924\n",
      "DiabetesPedigreeFunction    0.189325\n",
      "Age                         0.227732\n",
      "Pregnancies                 0.316339\n",
      "BMI                         0.716964\n",
      "Glucose                     1.008079\n",
      "dtype: float64\n"
     ]
    }
   ],
   "source": [
    "# coeff = list(lr_model.coef_[0])\n",
    "coeff = list(lr_model.coef_[0])\n",
    "label = df.columns.drop('Outcome')\n",
    "\n",
    "# create a pandas Series for the label-coefficient pairs\n",
    "coeff_label = pd.Series(coeff, label)\n",
    "# sort the coefficients in descending order\n",
    "coeff_label.sort_values(inplace=True)\n",
    "print (coeff_label)"
   ]
  },
  {
   "cell_type": "code",
   "execution_count": 81,
   "metadata": {},
   "outputs": [
    {
     "data": {
      "image/png": "[encoded data removed]",
      "text/plain": [
       "<Figure size 432x288 with 1 Axes>"
      ]
     },
     "metadata": {
      "needs_background": "light"
     },
     "output_type": "display_data"
    }
   ],
   "source": [
    "ax = coeff_label.plot.barh(x='Regression Coefficient', color='blue')\n",
    "ax.set_xlabel('Regression Coefficient')\n",
    "ax.set_title('Regression Coefficients vs. Health Factors')\n",
    "\n",
    "plt.show()"
   ]
  },
  {
   "cell_type": "markdown",
   "metadata": {},
   "source": [
    "### Step 4.2: Based on the observation on the coefficients and the chart, please answer the following questions:\n",
    "\n",
    "**Q1: What are the top three factors that have significant influence on the prediction outcome?**"
   ]
  },
  {
   "cell_type": "markdown",
   "metadata": {},
   "source": [
    "#### $\\color{red}{\\text{Based on the coefficient charts, the top three factors are Glucose, BMI and Pregnancies.}}$"
   ]
  },
  {
   "cell_type": "markdown",
   "metadata": {},
   "source": [
    "**Q2: Do those three factors also have high correlation coefficients with the outcome?**"
   ]
  },
  {
   "cell_type": "markdown",
   "metadata": {},
   "source": [
    "#### $\\color{red}{\\text{Looking back to the heatmap, the above three factors are also among the top four in correlation coefficients. Glucose appears to have the strongest correlation.}}$"
   ]
  },
  {
   "cell_type": "markdown",
   "metadata": {},
   "source": [
    "## Part 2: Linear Regression - Medical Expense Prediction (50 Points) \n",
    "\n",
    "Health insurance compaines develop models aiming to accurately forecast medical expenses for the insured population.\n",
    "Medical expenses are difficult to estimate because the most costly conditions are rare and seemingly random. \n",
    "Still, some conditions are more prevalent for certain segments of the population. For instance, lung cancer is more \n",
    "likely among smokers than non-smokers, and heart disease may be more likely among the obese.\n",
    "\n",
    "#### The filename, \"insurance.csv\", is the dataset for this analysis.\n",
    "\n",
    "The dataset contains the following features/columns:\n",
    "\n",
    " * **age**: The age of the primary beneficiary (excluding those above 64 years, since they are generally covered by the government).\n",
    " * **sex**: The policy holder’s gender, either male or female.\n",
    " * **bmi**: The body mass index (BMI), which provides a sense of how over- or under-weight a person is relative to their height.\n",
    " * **children**: The number of children/dependents covered by the insurance plan.\n",
    " * **smoker**: A yes or no categorical variable that indicates whether the insured regularly smokes tobacco.\n",
    " * **region**: The beneficiary’s place of residence in the US, divided into four geographic regions: northeast, southeast, southwest, or northwest.\n",
    " * **charges**: The medical expense charged to the medical plan in a calendar year. This is the **target** column. \n"
   ]
  },
  {
   "cell_type": "markdown",
   "metadata": {},
   "source": [
    "## Step 1: Data Preparation and Cleaning\n",
    "\n",
    "Perform the following tasks:\n",
    " 1. Load the dataset in a data frame\n",
    " 2. Examine the dataset attributes (index, columns, range of values) and basic statistics \n",
    " 3. Handle missing and invalid data"
   ]
  },
  {
   "cell_type": "code",
   "execution_count": 303,
   "metadata": {},
   "outputs": [
    {
     "data": {
      "text/html": [
       "<div>\n",
       "<style scoped>\n",
       "    .dataframe tbody tr th:only-of-type {\n",
       "        vertical-align: middle;\n",
       "    }\n",
       "\n",
       "    .dataframe tbody tr th {\n",
       "        vertical-align: top;\n",
       "    }\n",
       "\n",
       "    .dataframe thead th {\n",
       "        text-align: right;\n",
       "    }\n",
       "</style>\n",
       "<table border=\"1\" class=\"dataframe\">\n",
       "  <thead>\n",
       "    <tr style=\"text-align: right;\">\n",
       "      <th></th>\n",
       "      <th>age</th>\n",
       "      <th>sex</th>\n",
       "      <th>bmi</th>\n",
       "      <th>children</th>\n",
       "      <th>smoker</th>\n",
       "      <th>region</th>\n",
       "      <th>charges</th>\n",
       "    </tr>\n",
       "  </thead>\n",
       "  <tbody>\n",
       "    <tr>\n",
       "      <th>0</th>\n",
       "      <td>19</td>\n",
       "      <td>female</td>\n",
       "      <td>27.900</td>\n",
       "      <td>0</td>\n",
       "      <td>yes</td>\n",
       "      <td>southwest</td>\n",
       "      <td>16884.92400</td>\n",
       "    </tr>\n",
       "    <tr>\n",
       "      <th>1</th>\n",
       "      <td>18</td>\n",
       "      <td>male</td>\n",
       "      <td>33.770</td>\n",
       "      <td>1</td>\n",
       "      <td>no</td>\n",
       "      <td>southeast</td>\n",
       "      <td>1725.55230</td>\n",
       "    </tr>\n",
       "    <tr>\n",
       "      <th>2</th>\n",
       "      <td>28</td>\n",
       "      <td>male</td>\n",
       "      <td>33.000</td>\n",
       "      <td>3</td>\n",
       "      <td>no</td>\n",
       "      <td>southeast</td>\n",
       "      <td>4449.46200</td>\n",
       "    </tr>\n",
       "    <tr>\n",
       "      <th>3</th>\n",
       "      <td>33</td>\n",
       "      <td>male</td>\n",
       "      <td>22.705</td>\n",
       "      <td>0</td>\n",
       "      <td>no</td>\n",
       "      <td>northwest</td>\n",
       "      <td>21984.47061</td>\n",
       "    </tr>\n",
       "    <tr>\n",
       "      <th>4</th>\n",
       "      <td>32</td>\n",
       "      <td>male</td>\n",
       "      <td>28.880</td>\n",
       "      <td>0</td>\n",
       "      <td>no</td>\n",
       "      <td>northwest</td>\n",
       "      <td>3866.85520</td>\n",
       "    </tr>\n",
       "  </tbody>\n",
       "</table>\n",
       "</div>"
      ],
      "text/plain": [
       "   age     sex     bmi  children smoker     region      charges\n",
       "0   19  female  27.900         0    yes  southwest  16884.92400\n",
       "1   18    male  33.770         1     no  southeast   1725.55230\n",
       "2   28    male  33.000         3     no  southeast   4449.46200\n",
       "3   33    male  22.705         0     no  northwest  21984.47061\n",
       "4   32    male  28.880         0     no  northwest   3866.85520"
      ]
     },
     "execution_count": 303,
     "metadata": {},
     "output_type": "execute_result"
    }
   ],
   "source": [
    "df = pd.read_csv(\"insurance.csv\")\n",
    "df.head()"
   ]
  },
  {
   "cell_type": "code",
   "execution_count": 286,
   "metadata": {},
   "outputs": [
    {
     "data": {
      "text/html": [
       "<div>\n",
       "<style scoped>\n",
       "    .dataframe tbody tr th:only-of-type {\n",
       "        vertical-align: middle;\n",
       "    }\n",
       "\n",
       "    .dataframe tbody tr th {\n",
       "        vertical-align: top;\n",
       "    }\n",
       "\n",
       "    .dataframe thead th {\n",
       "        text-align: right;\n",
       "    }\n",
       "</style>\n",
       "<table border=\"1\" class=\"dataframe\">\n",
       "  <thead>\n",
       "    <tr style=\"text-align: right;\">\n",
       "      <th></th>\n",
       "      <th>age</th>\n",
       "      <th>bmi</th>\n",
       "      <th>children</th>\n",
       "      <th>charges</th>\n",
       "    </tr>\n",
       "  </thead>\n",
       "  <tbody>\n",
       "    <tr>\n",
       "      <th>count</th>\n",
       "      <td>1338.000000</td>\n",
       "      <td>1338.000000</td>\n",
       "      <td>1338.000000</td>\n",
       "      <td>1338.000000</td>\n",
       "    </tr>\n",
       "    <tr>\n",
       "      <th>mean</th>\n",
       "      <td>39.207025</td>\n",
       "      <td>30.663397</td>\n",
       "      <td>1.094918</td>\n",
       "      <td>13270.422265</td>\n",
       "    </tr>\n",
       "    <tr>\n",
       "      <th>std</th>\n",
       "      <td>14.049960</td>\n",
       "      <td>6.098187</td>\n",
       "      <td>1.205493</td>\n",
       "      <td>12110.011237</td>\n",
       "    </tr>\n",
       "    <tr>\n",
       "      <th>min</th>\n",
       "      <td>18.000000</td>\n",
       "      <td>15.960000</td>\n",
       "      <td>0.000000</td>\n",
       "      <td>1121.873900</td>\n",
       "    </tr>\n",
       "    <tr>\n",
       "      <th>25%</th>\n",
       "      <td>27.000000</td>\n",
       "      <td>26.296250</td>\n",
       "      <td>0.000000</td>\n",
       "      <td>4740.287150</td>\n",
       "    </tr>\n",
       "    <tr>\n",
       "      <th>50%</th>\n",
       "      <td>39.000000</td>\n",
       "      <td>30.400000</td>\n",
       "      <td>1.000000</td>\n",
       "      <td>9382.033000</td>\n",
       "    </tr>\n",
       "    <tr>\n",
       "      <th>75%</th>\n",
       "      <td>51.000000</td>\n",
       "      <td>34.693750</td>\n",
       "      <td>2.000000</td>\n",
       "      <td>16639.912515</td>\n",
       "    </tr>\n",
       "    <tr>\n",
       "      <th>max</th>\n",
       "      <td>64.000000</td>\n",
       "      <td>53.130000</td>\n",
       "      <td>5.000000</td>\n",
       "      <td>63770.428010</td>\n",
       "    </tr>\n",
       "  </tbody>\n",
       "</table>\n",
       "</div>"
      ],
      "text/plain": [
       "               age          bmi     children       charges\n",
       "count  1338.000000  1338.000000  1338.000000   1338.000000\n",
       "mean     39.207025    30.663397     1.094918  13270.422265\n",
       "std      14.049960     6.098187     1.205493  12110.011237\n",
       "min      18.000000    15.960000     0.000000   1121.873900\n",
       "25%      27.000000    26.296250     0.000000   4740.287150\n",
       "50%      39.000000    30.400000     1.000000   9382.033000\n",
       "75%      51.000000    34.693750     2.000000  16639.912515\n",
       "max      64.000000    53.130000     5.000000  63770.428010"
      ]
     },
     "execution_count": 286,
     "metadata": {},
     "output_type": "execute_result"
    }
   ],
   "source": [
    "df.describe()"
   ]
  },
  {
   "cell_type": "markdown",
   "metadata": {},
   "source": [
    "#### By observing the df.describe() result, this appears to be a clean dataset. \n",
    "#### Let's do a quick sanity check."
   ]
  },
  {
   "cell_type": "code",
   "execution_count": 287,
   "metadata": {},
   "outputs": [
    {
     "data": {
      "text/plain": [
       "age         0\n",
       "sex         0\n",
       "bmi         0\n",
       "children    0\n",
       "smoker      0\n",
       "region      0\n",
       "charges     0\n",
       "dtype: int64"
      ]
     },
     "execution_count": 287,
     "metadata": {},
     "output_type": "execute_result"
    }
   ],
   "source": [
    "df.isna().sum()"
   ]
  },
  {
   "cell_type": "markdown",
   "metadata": {},
   "source": [
    "## Step 2: Exploratory Data Analysis\n",
    "\n",
    "In this section, you will examine two of the likely leading indicators for medical expenses: smoking and bmi.\n",
    "\n",
    "### Q2.1: Create a boxplot that compares the \"charges\" for \"smoker\" vs. \"non-smoker\".   \n",
    "\n",
    "Please make comments on the impact of smoking on the medical charges. "
   ]
  },
  {
   "cell_type": "code",
   "execution_count": 288,
   "metadata": {},
   "outputs": [
    {
     "data": {
      "image/png": "[encoded data removed]",
      "text/plain": [
       "<Figure size 432x288 with 1 Axes>"
      ]
     },
     "metadata": {
      "needs_background": "light"
     },
     "output_type": "display_data"
    }
   ],
   "source": [
    "sns.boxplot(x=df['smoker'], y=df['charges'])\n",
    "plt.show()"
   ]
  },
  {
   "cell_type": "markdown",
   "metadata": {},
   "source": [
    "#### $\\color{red}{\\text{Smokers appear to incur much higher medical charges vs. non-smokers.}}$"
   ]
  },
  {
   "cell_type": "markdown",
   "metadata": {},
   "source": [
    "### Q2.2: Create a bar chart that compares the average medical charges for 6 different BMI ranges.\n",
    "\n",
    "BMI range definition:\n",
    " * Below 18.5: Underweight\n",
    " * 18.5–24.9: Normal weight\n",
    " * 25.0–29.9: Pre-obesity\n",
    " * 30.0–34.9: Obesity class I\n",
    " * 35.0–39.9: Obesity class II\n",
    " * Above 40: Obesity class III\n",
    "\n",
    "Please make comments on the impact of BMI (obesity) on the medical charges. "
   ]
  },
  {
   "cell_type": "code",
   "execution_count": 291,
   "metadata": {},
   "outputs": [
    {
     "data": {
      "image/png": "[encoded data removed]",
      "text/plain": [
       "<Figure size 432x288 with 1 Axes>"
      ]
     },
     "metadata": {
      "needs_background": "light"
     },
     "output_type": "display_data"
    }
   ],
   "source": [
    "# Create Dict with all average values for each BMI Range\n",
    "bmi_charges = {\"Underweight\": df[df['bmi'] < 18.5][\"charges\"].mean(),\n",
    "             \"Normal Weight\": df[(df['bmi'] >= 18.5) & (df['bmi']<=24.9)][\"charges\"].mean(),\n",
    "             \"Pre-obesity\": df[(df['bmi'] >= 25) & (df['bmi']<=29.9)][\"charges\"].mean(),\n",
    "             \"Obesity class I\": df[(df['bmi'] >= 30) & (df['bmi']<=34.9)][\"charges\"].mean(),\n",
    "             \"Obesity class II\":df[(df['bmi'] >= 35) & (df['bmi']<=39.9)][\"charges\"].mean(),\n",
    "             \"Obesity class III\": df[df['bmi'] > 40][\"charges\"].mean()}\n",
    "\n",
    "\n",
    "# Create Bar Chart showing values\n",
    "plt.bar(bmi_charges.keys(), bmi_charges.values())\n",
    "plt.xlabel(\"BMI Range\")\n",
    "plt.ylabel(\"Average Medical Charges\")\n",
    "plt.xticks(rotation = 30)\n",
    "plt.show()"
   ]
  },
  {
   "cell_type": "markdown",
   "metadata": {},
   "source": [
    "#### $\\color{red}{\\text{Medical charges tend to trend higher with increasing BMIs.}}$"
   ]
  },
  {
   "cell_type": "markdown",
   "metadata": {},
   "source": [
    "### Q2.3: Calculate the correlation matrix for the numerical column data and plot a heatmap.\n",
    "\n",
    "For this exercise, you will remove the three **categorical** variables (sex, smoker, region) first. \n",
    "\n",
    "**Are the remaining column features highly correlated with each?** "
   ]
  },
  {
   "cell_type": "code",
   "execution_count": 292,
   "metadata": {},
   "outputs": [
    {
     "name": "stdout",
     "output_type": "stream",
     "text": [
      "Index(['age', 'sex', 'bmi', 'children', 'smoker', 'region', 'charges'], dtype='object')\n"
     ]
    }
   ],
   "source": [
    "print(df.columns)\n",
    "df_1 = df.drop(['sex','smoker','region'], axis=1)"
   ]
  },
  {
   "cell_type": "code",
   "execution_count": 144,
   "metadata": {},
   "outputs": [
    {
     "data": {
      "image/png": "[encoded data removed]",
      "text/plain": [
       "<Figure size 864x432 with 2 Axes>"
      ]
     },
     "metadata": {
      "needs_background": "light"
     },
     "output_type": "display_data"
    }
   ],
   "source": [
    "corr = df_1.corr()\n",
    "\n",
    "plt.figure(figsize=(12,6))\n",
    "sns.heatmap(corr, annot=True)\n",
    "plt.show()"
   ]
  },
  {
   "cell_type": "markdown",
   "metadata": {},
   "source": [
    "#### $\\color{red}{\\text{\"Age\", \"bmi\" and \"Children\" have low correlation with each other.}}$"
   ]
  },
  {
   "cell_type": "markdown",
   "metadata": {},
   "source": [
    "## Step 3: Regression Model and Outcome Prediction\n",
    "\n",
    "In this section, you will use **linear regression** to create a prediction model for the medical charges.\n",
    "\n",
    "### Step 3.1: Converting Categorical Features\n",
    "\n",
    "There are three categorial features in this dataset (sex, smoker, and region). We are interested to learn how **gender** and **smoker** impact the prediction model and, therefore, we need to first convert those two categorial variables into **\"dummy\" numerical variables**. "
   ]
  },
  {
   "cell_type": "markdown",
   "metadata": {},
   "source": [
    "<h3> First, remove the \"region\" column since we are not interested in this feature.</h3>"
   ]
  },
  {
   "cell_type": "code",
   "execution_count": 304,
   "metadata": {},
   "outputs": [],
   "source": [
    "df.drop('region', axis=1, inplace=True)"
   ]
  },
  {
   "cell_type": "markdown",
   "metadata": {},
   "source": [
    "### Second, use pd.get_dummies( ) to convert both \"sex\" and \"smoker\" columns. \n",
    "### Remember to use \"drop_first = True\" option to remove the redundant column. "
   ]
  },
  {
   "cell_type": "code",
   "execution_count": 305,
   "metadata": {},
   "outputs": [],
   "source": [
    "df = pd.get_dummies(df, drop_first=True)"
   ]
  },
  {
   "cell_type": "markdown",
   "metadata": {},
   "source": [
    "### Now the dataset should have the following columns:'age','bmi',children','sex_male','smoker_yes' and 'charges' \n",
    "#### Show the first 5 lines of the dataset"
   ]
  },
  {
   "cell_type": "code",
   "execution_count": 306,
   "metadata": {},
   "outputs": [
    {
     "data": {
      "text/html": [
       "<div>\n",
       "<style scoped>\n",
       "    .dataframe tbody tr th:only-of-type {\n",
       "        vertical-align: middle;\n",
       "    }\n",
       "\n",
       "    .dataframe tbody tr th {\n",
       "        vertical-align: top;\n",
       "    }\n",
       "\n",
       "    .dataframe thead th {\n",
       "        text-align: right;\n",
       "    }\n",
       "</style>\n",
       "<table border=\"1\" class=\"dataframe\">\n",
       "  <thead>\n",
       "    <tr style=\"text-align: right;\">\n",
       "      <th></th>\n",
       "      <th>age</th>\n",
       "      <th>bmi</th>\n",
       "      <th>children</th>\n",
       "      <th>charges</th>\n",
       "      <th>sex_male</th>\n",
       "      <th>smoker_yes</th>\n",
       "    </tr>\n",
       "  </thead>\n",
       "  <tbody>\n",
       "    <tr>\n",
       "      <th>0</th>\n",
       "      <td>19</td>\n",
       "      <td>27.900</td>\n",
       "      <td>0</td>\n",
       "      <td>16884.92400</td>\n",
       "      <td>0</td>\n",
       "      <td>1</td>\n",
       "    </tr>\n",
       "    <tr>\n",
       "      <th>1</th>\n",
       "      <td>18</td>\n",
       "      <td>33.770</td>\n",
       "      <td>1</td>\n",
       "      <td>1725.55230</td>\n",
       "      <td>1</td>\n",
       "      <td>0</td>\n",
       "    </tr>\n",
       "    <tr>\n",
       "      <th>2</th>\n",
       "      <td>28</td>\n",
       "      <td>33.000</td>\n",
       "      <td>3</td>\n",
       "      <td>4449.46200</td>\n",
       "      <td>1</td>\n",
       "      <td>0</td>\n",
       "    </tr>\n",
       "    <tr>\n",
       "      <th>3</th>\n",
       "      <td>33</td>\n",
       "      <td>22.705</td>\n",
       "      <td>0</td>\n",
       "      <td>21984.47061</td>\n",
       "      <td>1</td>\n",
       "      <td>0</td>\n",
       "    </tr>\n",
       "    <tr>\n",
       "      <th>4</th>\n",
       "      <td>32</td>\n",
       "      <td>28.880</td>\n",
       "      <td>0</td>\n",
       "      <td>3866.85520</td>\n",
       "      <td>1</td>\n",
       "      <td>0</td>\n",
       "    </tr>\n",
       "  </tbody>\n",
       "</table>\n",
       "</div>"
      ],
      "text/plain": [
       "   age     bmi  children      charges  sex_male  smoker_yes\n",
       "0   19  27.900         0  16884.92400         0           1\n",
       "1   18  33.770         1   1725.55230         1           0\n",
       "2   28  33.000         3   4449.46200         1           0\n",
       "3   33  22.705         0  21984.47061         1           0\n",
       "4   32  28.880         0   3866.85520         1           0"
      ]
     },
     "execution_count": 306,
     "metadata": {},
     "output_type": "execute_result"
    }
   ],
   "source": [
    "### Now the dataset should have the following columns:'age','bmi',children','sex_male','smoker_yes' and 'charges' \n",
    "### Show the first 5 lines of the dataset\n",
    "df.head()"
   ]
  },
  {
   "cell_type": "markdown",
   "metadata": {},
   "source": [
    "### Step 3.2: Train-Test Split\n",
    "\n",
    "**Since we want to predict the medical charges, the output (target) will be the \"charges\" column. The rest of the columns will be the input (features). So you will drop the \"charges\" column from the dataset and make it X and pick the \"charges\" column and make it y.**"
   ]
  },
  {
   "cell_type": "code",
   "execution_count": 307,
   "metadata": {},
   "outputs": [],
   "source": [
    "from sklearn.model_selection import train_test_split\n",
    "from sklearn.linear_model import LinearRegression\n",
    "from sklearn import metrics"
   ]
  },
  {
   "cell_type": "code",
   "execution_count": 308,
   "metadata": {},
   "outputs": [],
   "source": [
    "# Set up X (features) and y (target)\n",
    "X = df.drop('charges', axis=1)\n",
    "y = df['charges']"
   ]
  },
  {
   "cell_type": "markdown",
   "metadata": {},
   "source": [
    "### Split the dataset into training set and testing set using proper Sklearn package. \n",
    "#### Use a test size of 30% and your own arbitrary number for random_state."
   ]
  },
  {
   "cell_type": "code",
   "execution_count": 309,
   "metadata": {},
   "outputs": [],
   "source": [
    "# Split test and train data with test_data = 30% and random_state = 101\n",
    "X_train, X_test, y_train, y_test = train_test_split(X, y, test_size=0.3, random_state=101)"
   ]
  },
  {
   "cell_type": "markdown",
   "metadata": {},
   "source": [
    "### Step 3.3: Train and Fit Your Model\n",
    "**Use Sklearn package on the training data and obtain the linear prediction model.**"
   ]
  },
  {
   "cell_type": "code",
   "execution_count": 310,
   "metadata": {},
   "outputs": [],
   "source": [
    "lm = LinearRegression()"
   ]
  },
  {
   "cell_type": "code",
   "execution_count": 311,
   "metadata": {},
   "outputs": [
    {
     "data": {
      "text/plain": [
       "LinearRegression()"
      ]
     },
     "execution_count": 311,
     "metadata": {},
     "output_type": "execute_result"
    }
   ],
   "source": [
    "lm.fit(X_train,y_train)"
   ]
  },
  {
   "cell_type": "markdown",
   "metadata": {},
   "source": [
    "### Step 3.4: Prediction and Model Evaluation\n",
    "### Step 3.4.1. Use Sklearn package to predict the outcomes on the test data. \n",
    "**Create a scatter plot for predicted value (y-axis) vs. actual value (x-axis). Properly label the two axes.**"
   ]
  },
  {
   "cell_type": "code",
   "execution_count": 312,
   "metadata": {},
   "outputs": [],
   "source": [
    "predictions = lm.predict(X_test)"
   ]
  },
  {
   "cell_type": "code",
   "execution_count": 313,
   "metadata": {},
   "outputs": [
    {
     "data": {
      "image/png": "[encoded data removed]",
      "text/plain": [
       "<Figure size 432x288 with 1 Axes>"
      ]
     },
     "metadata": {
      "needs_background": "light"
     },
     "output_type": "display_data"
    }
   ],
   "source": [
    "plt.scatter(y_test,predictions)\n",
    "plt.xlabel(\"Actual Test Data\")\n",
    "plt.ylabel(\"Predicted Value\")\n",
    "plt.title('Prediction vs. Actual Data')\n",
    "plt.show()"
   ]
  },
  {
   "cell_type": "markdown",
   "metadata": {},
   "source": [
    "### Step 3.4.2: Use Sklearn module to calcualte the following evaluation metrics.\n",
    " * Mean Absolute Error (MAE)\n",
    " * Mean Squared Error (MSE)\n",
    " * Root Mean Squared Error (RMSE) \n",
    " * R-Square (r2)"
   ]
  },
  {
   "cell_type": "code",
   "execution_count": 314,
   "metadata": {},
   "outputs": [
    {
     "name": "stdout",
     "output_type": "stream",
     "text": [
      "MAE: 4010\n",
      "MSE: 33693652\n",
      "RMSE: 5805\n"
     ]
    }
   ],
   "source": [
    "print('MAE: %.f'%metrics.mean_absolute_error(y_test, predictions))\n",
    "print('MSE: %.f'%metrics.mean_squared_error(y_test, predictions))\n",
    "print('RMSE: %.f'%np.sqrt(metrics.mean_squared_error(y_test, predictions)))"
   ]
  },
  {
   "cell_type": "code",
   "execution_count": 315,
   "metadata": {},
   "outputs": [
    {
     "name": "stdout",
     "output_type": "stream",
     "text": [
      "R2: 0.7601\n"
     ]
    }
   ],
   "source": [
    "from sklearn.metrics import r2_score\n",
    "print(\"R2: %.4f\"%metrics.r2_score(y_test, predictions))"
   ]
  },
  {
   "cell_type": "markdown",
   "metadata": {},
   "source": [
    "## Step 4: Interpreting the Prediction Model\n",
    "\n",
    "### Step 4.1. Print out the linear regression equaiton coefficients and constant\n",
    " * **lm.coef_** is the linear regression coefficients, where lm is the name of your model\n",
    " * **lm.intercept_** is the constant of the linear regression equation\n",
    " * Create a pandas DataFrame that takes **lm_coef_** as the data and column lables of X as the index. Print the DataFrame. "
   ]
  },
  {
   "cell_type": "code",
   "execution_count": 316,
   "metadata": {},
   "outputs": [
    {
     "name": "stdout",
     "output_type": "stream",
     "text": [
      "-12528.087428524863\n"
     ]
    }
   ],
   "source": [
    "# print the intercept\n",
    "const = lm.intercept_\n",
    "print (const)"
   ]
  },
  {
   "cell_type": "code",
   "execution_count": 317,
   "metadata": {},
   "outputs": [
    {
     "data": {
      "text/html": [
       "<div>\n",
       "<style scoped>\n",
       "    .dataframe tbody tr th:only-of-type {\n",
       "        vertical-align: middle;\n",
       "    }\n",
       "\n",
       "    .dataframe tbody tr th {\n",
       "        vertical-align: top;\n",
       "    }\n",
       "\n",
       "    .dataframe thead th {\n",
       "        text-align: right;\n",
       "    }\n",
       "</style>\n",
       "<table border=\"1\" class=\"dataframe\">\n",
       "  <thead>\n",
       "    <tr style=\"text-align: right;\">\n",
       "      <th></th>\n",
       "      <th>coefficient</th>\n",
       "    </tr>\n",
       "  </thead>\n",
       "  <tbody>\n",
       "    <tr>\n",
       "      <th>age</th>\n",
       "      <td>241.869312</td>\n",
       "    </tr>\n",
       "    <tr>\n",
       "      <th>bmi</th>\n",
       "      <td>355.027129</td>\n",
       "    </tr>\n",
       "    <tr>\n",
       "      <th>children</th>\n",
       "      <td>494.185696</td>\n",
       "    </tr>\n",
       "    <tr>\n",
       "      <th>sex_male</th>\n",
       "      <td>53.985556</td>\n",
       "    </tr>\n",
       "    <tr>\n",
       "      <th>smoker_yes</th>\n",
       "      <td>23448.982163</td>\n",
       "    </tr>\n",
       "  </tbody>\n",
       "</table>\n",
       "</div>"
      ],
      "text/plain": [
       "             coefficient\n",
       "age           241.869312\n",
       "bmi           355.027129\n",
       "children      494.185696\n",
       "sex_male       53.985556\n",
       "smoker_yes  23448.982163"
      ]
     },
     "execution_count": 317,
     "metadata": {},
     "output_type": "execute_result"
    }
   ],
   "source": [
    "coeff_df = pd.DataFrame(lm.coef_,index=X.columns, columns=['coefficient'])\n",
    "coeff_df"
   ]
  },
  {
   "cell_type": "markdown",
   "metadata": {},
   "source": [
    "### Step 4.2.: Based on the linear regression equation, answer the following questions:\n",
    "<h4> Q1. Does gender have much an impact on the total medical charge, if all else being equal? Why or why not?"
   ]
  },
  {
   "cell_type": "markdown",
   "metadata": {},
   "source": [
    "#### $\\color{red}{\\text{All other factors being equal, the male will pay \\$54 more than the female, which is not a major difference.}}$"
   ]
  },
  {
   "cell_type": "markdown",
   "metadata": {},
   "source": [
    "<h4>Q2. Predict the medical charges for a male customer with the following profile: age 40, 3 children, BMI 25, and smoking. Write a code to perform the calculation.</h4>"
   ]
  },
  {
   "cell_type": "code",
   "execution_count": 318,
   "metadata": {},
   "outputs": [
    {
     "name": "stdout",
     "output_type": "stream",
     "text": [
      "31007.888074627226\n"
     ]
    }
   ],
   "source": [
    "customer = np.array([40, 25, 3, 1, 1])\n",
    "charges = np.dot(lm.coef_, customer) + const\n",
    "print (charges)"
   ]
  },
  {
   "cell_type": "markdown",
   "metadata": {},
   "source": [
    "## <span style=\"color:purple\">Wonderful, you are done! It has been a fun semester. Have a great summer!"
   ]
  }
 ],
 "metadata": {
  "kernelspec": {
   "display_name": "Python 3",
   "language": "python",
   "name": "python3"
  },
  "language_info": {
   "codemirror_mode": {
    "name": "ipython",
    "version": 3
   },
   "file_extension": ".py",
   "mimetype": "text/x-python",
   "name": "python",
   "nbconvert_exporter": "python",
   "pygments_lexer": "ipython3",
   "version": "3.8.8"
  }
 },
 "nbformat": 4,
 "nbformat_minor": 1
}
