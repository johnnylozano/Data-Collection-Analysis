{
 "cells": [
  {
   "cell_type": "markdown",
   "id": "e327e596",
   "metadata": {},
   "source": [
    "# World Happiness Index\n",
    "\n",
    "We use this data set to learn some data aggregation techniques of pandas.\n",
    "\n",
    "Input file: World_Happiness_2015.csv"
   ]
  },
  {
   "cell_type": "code",
   "execution_count": 2,
   "id": "8d39d51f",
   "metadata": {},
   "outputs": [],
   "source": [
    "import numpy as np\n",
    "import pandas as pd"
   ]
  },
  {
   "cell_type": "code",
   "execution_count": 3,
   "id": "1d721a37",
   "metadata": {},
   "outputs": [
    {
     "data": {
      "text/html": [
       "<div>\n",
       "<style scoped>\n",
       "    .dataframe tbody tr th:only-of-type {\n",
       "        vertical-align: middle;\n",
       "    }\n",
       "\n",
       "    .dataframe tbody tr th {\n",
       "        vertical-align: top;\n",
       "    }\n",
       "\n",
       "    .dataframe thead th {\n",
       "        text-align: right;\n",
       "    }\n",
       "</style>\n",
       "<table border=\"1\" class=\"dataframe\">\n",
       "  <thead>\n",
       "    <tr style=\"text-align: right;\">\n",
       "      <th></th>\n",
       "      <th>Country</th>\n",
       "      <th>Region</th>\n",
       "      <th>Happiness Rank</th>\n",
       "      <th>Happiness Score</th>\n",
       "      <th>Standard Error</th>\n",
       "      <th>Economy (GDP per Capita)</th>\n",
       "      <th>Family</th>\n",
       "      <th>Health (Life Expectancy)</th>\n",
       "      <th>Freedom</th>\n",
       "      <th>Trust (Government Corruption)</th>\n",
       "      <th>Generosity</th>\n",
       "      <th>Dystopia Residual</th>\n",
       "    </tr>\n",
       "  </thead>\n",
       "  <tbody>\n",
       "    <tr>\n",
       "      <th>0</th>\n",
       "      <td>Switzerland</td>\n",
       "      <td>Western Europe</td>\n",
       "      <td>1</td>\n",
       "      <td>7.587</td>\n",
       "      <td>0.03411</td>\n",
       "      <td>1.39651</td>\n",
       "      <td>1.34951</td>\n",
       "      <td>0.94143</td>\n",
       "      <td>0.66557</td>\n",
       "      <td>0.41978</td>\n",
       "      <td>0.29678</td>\n",
       "      <td>2.51738</td>\n",
       "    </tr>\n",
       "    <tr>\n",
       "      <th>1</th>\n",
       "      <td>Iceland</td>\n",
       "      <td>Western Europe</td>\n",
       "      <td>2</td>\n",
       "      <td>7.561</td>\n",
       "      <td>0.04884</td>\n",
       "      <td>1.30232</td>\n",
       "      <td>1.40223</td>\n",
       "      <td>0.94784</td>\n",
       "      <td>0.62877</td>\n",
       "      <td>0.14145</td>\n",
       "      <td>0.43630</td>\n",
       "      <td>2.70201</td>\n",
       "    </tr>\n",
       "    <tr>\n",
       "      <th>2</th>\n",
       "      <td>Denmark</td>\n",
       "      <td>Western Europe</td>\n",
       "      <td>3</td>\n",
       "      <td>7.527</td>\n",
       "      <td>0.03328</td>\n",
       "      <td>1.32548</td>\n",
       "      <td>1.36058</td>\n",
       "      <td>0.87464</td>\n",
       "      <td>0.64938</td>\n",
       "      <td>0.48357</td>\n",
       "      <td>0.34139</td>\n",
       "      <td>2.49204</td>\n",
       "    </tr>\n",
       "    <tr>\n",
       "      <th>3</th>\n",
       "      <td>Norway</td>\n",
       "      <td>Western Europe</td>\n",
       "      <td>4</td>\n",
       "      <td>7.522</td>\n",
       "      <td>0.03880</td>\n",
       "      <td>1.45900</td>\n",
       "      <td>1.33095</td>\n",
       "      <td>0.88521</td>\n",
       "      <td>0.66973</td>\n",
       "      <td>0.36503</td>\n",
       "      <td>0.34699</td>\n",
       "      <td>2.46531</td>\n",
       "    </tr>\n",
       "    <tr>\n",
       "      <th>4</th>\n",
       "      <td>Canada</td>\n",
       "      <td>North America</td>\n",
       "      <td>5</td>\n",
       "      <td>7.427</td>\n",
       "      <td>0.03553</td>\n",
       "      <td>1.32629</td>\n",
       "      <td>1.32261</td>\n",
       "      <td>0.90563</td>\n",
       "      <td>0.63297</td>\n",
       "      <td>0.32957</td>\n",
       "      <td>0.45811</td>\n",
       "      <td>2.45176</td>\n",
       "    </tr>\n",
       "  </tbody>\n",
       "</table>\n",
       "</div>"
      ],
      "text/plain": [
       "       Country          Region  Happiness Rank  Happiness Score  \\\n",
       "0  Switzerland  Western Europe               1            7.587   \n",
       "1      Iceland  Western Europe               2            7.561   \n",
       "2      Denmark  Western Europe               3            7.527   \n",
       "3       Norway  Western Europe               4            7.522   \n",
       "4       Canada   North America               5            7.427   \n",
       "\n",
       "   Standard Error  Economy (GDP per Capita)   Family  \\\n",
       "0         0.03411                   1.39651  1.34951   \n",
       "1         0.04884                   1.30232  1.40223   \n",
       "2         0.03328                   1.32548  1.36058   \n",
       "3         0.03880                   1.45900  1.33095   \n",
       "4         0.03553                   1.32629  1.32261   \n",
       "\n",
       "   Health (Life Expectancy)  Freedom  Trust (Government Corruption)  \\\n",
       "0                   0.94143  0.66557                        0.41978   \n",
       "1                   0.94784  0.62877                        0.14145   \n",
       "2                   0.87464  0.64938                        0.48357   \n",
       "3                   0.88521  0.66973                        0.36503   \n",
       "4                   0.90563  0.63297                        0.32957   \n",
       "\n",
       "   Generosity  Dystopia Residual  \n",
       "0     0.29678            2.51738  \n",
       "1     0.43630            2.70201  \n",
       "2     0.34139            2.49204  \n",
       "3     0.34699            2.46531  \n",
       "4     0.45811            2.45176  "
      ]
     },
     "execution_count": 3,
     "metadata": {},
     "output_type": "execute_result"
    }
   ],
   "source": [
    "# read in the dataset. Note that we do not assign row index this time\n",
    "happiness2015 = pd.read_csv('World_Happiness_2015.csv')\n",
    "\n",
    "happiness2015.head()     # Display the first 5 rows of data"
   ]
  },
  {
   "cell_type": "code",
   "execution_count": 4,
   "id": "9c25a732",
   "metadata": {},
   "outputs": [
    {
     "name": "stdout",
     "output_type": "stream",
     "text": [
      "<class 'pandas.core.frame.DataFrame'>\n",
      "RangeIndex: 158 entries, 0 to 157\n",
      "Data columns (total 12 columns):\n",
      " #   Column                         Non-Null Count  Dtype  \n",
      "---  ------                         --------------  -----  \n",
      " 0   Country                        158 non-null    object \n",
      " 1   Region                         158 non-null    object \n",
      " 2   Happiness Rank                 158 non-null    int64  \n",
      " 3   Happiness Score                158 non-null    float64\n",
      " 4   Standard Error                 158 non-null    float64\n",
      " 5   Economy (GDP per Capita)       158 non-null    float64\n",
      " 6   Family                         158 non-null    float64\n",
      " 7   Health (Life Expectancy)       158 non-null    float64\n",
      " 8   Freedom                        158 non-null    float64\n",
      " 9   Trust (Government Corruption)  158 non-null    float64\n",
      " 10  Generosity                     158 non-null    float64\n",
      " 11  Dystopia Residual              158 non-null    float64\n",
      "dtypes: float64(9), int64(1), object(2)\n",
      "memory usage: 14.9+ KB\n",
      "None\n",
      "RangeIndex(start=0, stop=158, step=1)\n"
     ]
    }
   ],
   "source": [
    "# Get some basic info of the Dataframe\n",
    "\n",
    "print (happiness2015.info())\n",
    "print (happiness2015.index)   # row index = np.arange(158)"
   ]
  },
  {
   "cell_type": "markdown",
   "id": "0cb15cb9",
   "metadata": {},
   "source": [
    "<h3>1. Let's check the ranking of some countries </h3>\n",
    "<h3>2. Focus on getting the data from Eastern Asian region </h3>"
   ]
  },
  {
   "cell_type": "code",
   "execution_count": 6,
   "id": "efa42379",
   "metadata": {},
   "outputs": [
    {
     "name": "stdout",
     "output_type": "stream",
     "text": [
      "0     False\n",
      "1     False\n",
      "2     False\n",
      "3     False\n",
      "4     False\n",
      "5     False\n",
      "6     False\n",
      "7     False\n",
      "8     False\n",
      "9     False\n",
      "10    False\n",
      "11    False\n",
      "12    False\n",
      "13    False\n",
      "14     True\n",
      "15    False\n",
      "Name: Country, dtype: bool\n",
      "\n",
      "USA ranked # 15\n"
     ]
    }
   ],
   "source": [
    "# What is the ranking of USA?\n",
    "# First, find the row index from the 'Country' column for 'United States'\n",
    "\n",
    "bool_US = happiness2015['Country'].isin(['United States'])  # another way to do boolean array\n",
    "print (bool_US[0:16])\n",
    "\n",
    "rank_US = happiness2015.loc[bool_US,'Happiness Rank'].values[0]  # Why \"value[0]\"?\n",
    "\n",
    "print (\"\\nUSA ranked #\", rank_US)"
   ]
  },
  {
   "cell_type": "code",
   "execution_count": 22,
   "id": "2b8459f6",
   "metadata": {},
   "outputs": [
    {
     "name": "stdout",
     "output_type": "stream",
     "text": [
      "Number of regions: 10\n",
      "['Western Europe' 'North America' 'Australia and New Zealand'\n",
      " 'Middle East and Northern Africa' 'Latin America and Caribbean'\n",
      " 'Southeastern Asia' 'Central and Eastern Europe' 'Eastern Asia'\n",
      " 'Sub-Saharan Africa' 'Southern Asia']\n"
     ]
    },
    {
     "data": {
      "text/plain": [
       "Sub-Saharan Africa                 40\n",
       "Central and Eastern Europe         29\n",
       "Latin America and Caribbean        22\n",
       "Western Europe                     21\n",
       "Middle East and Northern Africa    20\n",
       "Southeastern Asia                   9\n",
       "Southern Asia                       7\n",
       "Eastern Asia                        6\n",
       "North America                       2\n",
       "Australia and New Zealand           2\n",
       "Name: Region, dtype: int64"
      ]
     },
     "execution_count": 22,
     "metadata": {},
     "output_type": "execute_result"
    }
   ],
   "source": [
    "# Examine the column \"Region\"\n",
    "\n",
    "region = happiness2015['Region'].unique()  # unique() returns an array of unique names in 'Region' column \n",
    "\n",
    "# Remember you can also use the pd.Series.describe()\n",
    "# region = happiness2015['Region'].describe()\n",
    "\n",
    "print (\"Number of regions:\", region.size)\n",
    "print (region)\n",
    "\n",
    "happiness2015['Region'].value_counts()"
   ]
  },
  {
   "cell_type": "code",
   "execution_count": 4,
   "id": "b8038474",
   "metadata": {},
   "outputs": [
    {
     "name": "stdout",
     "output_type": "stream",
     "text": [
      "37         Taiwan\n",
      "45          Japan\n",
      "46    South Korea\n",
      "71      Hong Kong\n",
      "83          China\n",
      "99       Mongolia\n",
      "Name: Country, dtype: object\n"
     ]
    },
    {
     "data": {
      "text/plain": [
       "<AxesSubplot:title={'center':'Eastern Asia Region'}, ylabel='Country'>"
      ]
     },
     "execution_count": 4,
     "metadata": {},
     "output_type": "execute_result"
    },
    {
     "data": {
      "image/png": "[encoded data removed]",
      "text/plain": [
       "<Figure size 432x288 with 1 Axes>"
      ]
     },
     "metadata": {
      "needs_background": "light"
     },
     "output_type": "display_data"
    }
   ],
   "source": [
    "# What are the countries in Eastern Asia\n",
    "\n",
    "is_E_Asia = happiness2015['Region'] == 'Eastern Asia'\n",
    "E_Asia = happiness2015[is_E_Asia]     # extract the countries from E. Asia\n",
    "print (E_Asia['Country'])\n",
    "\n",
    "# A simple plot for Eastern Asia region\n",
    "\n",
    "E_Asia.plot(x='Country', y ='Happiness Score', kind ='barh', title='Eastern Asia Region', xlim=(0,8))"
   ]
  },
  {
   "cell_type": "markdown",
   "id": "f69b0609",
   "metadata": {},
   "source": [
    "<h3> We are interested in the average happiness scores for each region</h3>"
   ]
  },
  {
   "cell_type": "code",
   "execution_count": 24,
   "id": "07f5b7ae",
   "metadata": {},
   "outputs": [
    {
     "data": {
      "text/plain": [
       "{'Western Europe': 6.689619047619048,\n",
       " 'North America': 7.273,\n",
       " 'Australia and New Zealand': 7.285,\n",
       " 'Middle East and Northern Africa': 5.406899999999999,\n",
       " 'Latin America and Caribbean': 6.1446818181818195,\n",
       " 'Southeastern Asia': 5.317444444444445,\n",
       " 'Central and Eastern Europe': 5.332931034482758,\n",
       " 'Eastern Asia': 5.626166666666666,\n",
       " 'Sub-Saharan Africa': 4.202800000000001,\n",
       " 'Southern Asia': 4.580857142857143}"
      ]
     },
     "execution_count": 24,
     "metadata": {},
     "output_type": "execute_result"
    }
   ],
   "source": [
    "# Use Dict and for loop \n",
    "\n",
    "mean_happiness = {}\n",
    "\n",
    "for r in region:\n",
    "    region_group = happiness2015[happiness2015['Region'] == r]   # This extracts the countries in the region, r\n",
    "    mean = region_group['Happiness Score'].mean()   # This calculates the average score for this region_group\n",
    "    mean_happiness[r] = mean\n",
    "    \n",
    "mean_happiness"
   ]
  },
  {
   "cell_type": "code",
   "execution_count": 6,
   "id": "dbb1f4ec",
   "metadata": {},
   "outputs": [
    {
     "data": {
      "text/plain": [
       "<AxesSubplot:title={'center':'Region Average Score'}>"
      ]
     },
     "execution_count": 6,
     "metadata": {},
     "output_type": "execute_result"
    },
    {
     "data": {
      "image/png": "[encoded data removed]",
      "text/plain": [
       "<Figure size 432x288 with 1 Axes>"
      ]
     },
     "metadata": {
      "needs_background": "light"
     },
     "output_type": "display_data"
    }
   ],
   "source": [
    "# Let's turn this dictionary into a Dataframe\n",
    "# and analyze the average score for each world region\n",
    "\n",
    "world_score = pd.DataFrame(mean_happiness, index = [0])   # A bit tricky for a dict of scalar \n",
    "\n",
    "world_score.T.plot(kind ='barh', title='Region Average Score',legend = False, xlim=(0,8))"
   ]
  },
  {
   "cell_type": "markdown",
   "id": "f3a47a11",
   "metadata": {},
   "source": [
    "<h3>Create a GroupBy object on the 'Region' column</h3>"
   ]
  },
  {
   "cell_type": "code",
   "execution_count": 32,
   "id": "64848808",
   "metadata": {},
   "outputs": [
    {
     "name": "stdout",
     "output_type": "stream",
     "text": [
      "<pandas.core.groupby.generic.DataFrameGroupBy object at 0x7fe768027790>\n",
      "<class 'pandas.io.formats.printing.PrettyDict'>\n"
     ]
    },
    {
     "data": {
      "text/plain": [
       "{'Australia and New Zealand': [8, 9], 'Central and Eastern Europe': [30, 43, 44, 51, 53, 54, 55, 58, 59, 61, 63, 68, 69, 72, 76, 79, 82, 85, 86, 88, 92, 94, 95, 103, 105, 110, 126, 129, 133], 'Eastern Asia': [37, 45, 46, 71, 83, 99], 'Latin America and Caribbean': [11, 13, 15, 22, 24, 26, 29, 31, 32, 39, 40, 41, 42, 47, 50, 52, 56, 57, 64, 97, 104, 118], 'Middle East and Northern Africa': [10, 19, 21, 27, 34, 38, 48, 62, 67, 75, 81, 91, 102, 106, 107, 109, 111, 134, 135, 155], 'North America': [4, 14], 'Southeastern Asia': [23, 33, 60, 73, 74, 89, 98, 128, 144], 'Southern Asia': [78, 80, 108, 116, 120, 131, 152], 'Sub-Saharan Africa': [70, 77, 84, 90, 93, 96, 100, 112, 113, 114, 115, 117, 119, 121, 122, 123, 124, 125, 127, 130, 132, 136, 137, 138, 139, 140, 141, 142, 143, 145, 146, 147, 148, 149, 150, 151, 153, 154, 156, 157], 'Western Europe': [0, 1, 2, 3, 5, 6, 7, 12, 16, 17, 18, 20, 25, 28, 35, 36, 49, 65, 66, 87, 101]}"
      ]
     },
     "execution_count": 32,
     "metadata": {},
     "output_type": "execute_result"
    }
   ],
   "source": [
    "# How about using DataFrame.groupby()?\n",
    "\n",
    "# Create a Groupby object on the 'Region' column\n",
    "\n",
    "regions = happiness2015.groupby('Region')\n",
    "\n",
    "print (regions)    # A Groupby object is created\n",
    "\n",
    "regions.groups  # Some details about the GroupBy object\n",
    "\n",
    "# The result is a dictionary in which each key corresponds to a region name. \n",
    "# The values include the index for each row in the original happiness2015 DataFrame \n",
    "# with the corresponding region name"
   ]
  },
  {
   "cell_type": "code",
   "execution_count": 35,
   "id": "2539e238",
   "metadata": {},
   "outputs": [
    {
     "data": {
      "text/html": [
       "<div>\n",
       "<style scoped>\n",
       "    .dataframe tbody tr th:only-of-type {\n",
       "        vertical-align: middle;\n",
       "    }\n",
       "\n",
       "    .dataframe tbody tr th {\n",
       "        vertical-align: top;\n",
       "    }\n",
       "\n",
       "    .dataframe thead th {\n",
       "        text-align: right;\n",
       "    }\n",
       "</style>\n",
       "<table border=\"1\" class=\"dataframe\">\n",
       "  <thead>\n",
       "    <tr style=\"text-align: right;\">\n",
       "      <th></th>\n",
       "      <th>Country</th>\n",
       "      <th>Region</th>\n",
       "      <th>Happiness Rank</th>\n",
       "      <th>Happiness Score</th>\n",
       "      <th>Standard Error</th>\n",
       "      <th>Economy (GDP per Capita)</th>\n",
       "      <th>Family</th>\n",
       "      <th>Health (Life Expectancy)</th>\n",
       "      <th>Freedom</th>\n",
       "      <th>Trust (Government Corruption)</th>\n",
       "      <th>Generosity</th>\n",
       "      <th>Dystopia Residual</th>\n",
       "    </tr>\n",
       "  </thead>\n",
       "  <tbody>\n",
       "    <tr>\n",
       "      <th>4</th>\n",
       "      <td>Canada</td>\n",
       "      <td>North America</td>\n",
       "      <td>5</td>\n",
       "      <td>7.427</td>\n",
       "      <td>0.03553</td>\n",
       "      <td>1.32629</td>\n",
       "      <td>1.32261</td>\n",
       "      <td>0.90563</td>\n",
       "      <td>0.63297</td>\n",
       "      <td>0.32957</td>\n",
       "      <td>0.45811</td>\n",
       "      <td>2.45176</td>\n",
       "    </tr>\n",
       "    <tr>\n",
       "      <th>14</th>\n",
       "      <td>United States</td>\n",
       "      <td>North America</td>\n",
       "      <td>15</td>\n",
       "      <td>7.119</td>\n",
       "      <td>0.03839</td>\n",
       "      <td>1.39451</td>\n",
       "      <td>1.24711</td>\n",
       "      <td>0.86179</td>\n",
       "      <td>0.54604</td>\n",
       "      <td>0.15890</td>\n",
       "      <td>0.40105</td>\n",
       "      <td>2.51011</td>\n",
       "    </tr>\n",
       "  </tbody>\n",
       "</table>\n",
       "</div>"
      ],
      "text/plain": [
       "          Country         Region  Happiness Rank  Happiness Score  \\\n",
       "4          Canada  North America               5            7.427   \n",
       "14  United States  North America              15            7.119   \n",
       "\n",
       "    Standard Error  Economy (GDP per Capita)   Family  \\\n",
       "4          0.03553                   1.32629  1.32261   \n",
       "14         0.03839                   1.39451  1.24711   \n",
       "\n",
       "    Health (Life Expectancy)  Freedom  Trust (Government Corruption)  \\\n",
       "4                    0.90563  0.63297                        0.32957   \n",
       "14                   0.86179  0.54604                        0.15890   \n",
       "\n",
       "    Generosity  Dystopia Residual  \n",
       "4      0.45811            2.45176  \n",
       "14     0.40105            2.51011  "
      ]
     },
     "execution_count": 35,
     "metadata": {},
     "output_type": "execute_result"
    }
   ],
   "source": [
    "# Use the GroupBy.get_group() method to select data from the GroupBy object\n",
    "# Get group data for Canada and USA\n",
    "\n",
    "regions.get_group('North America')  "
   ]
  },
  {
   "cell_type": "code",
   "execution_count": 36,
   "id": "b7ce4cad",
   "metadata": {},
   "outputs": [
    {
     "name": "stdout",
     "output_type": "stream",
     "text": [
      "<class 'pandas.core.frame.DataFrame'>\n"
     ]
    },
    {
     "data": {
      "text/html": [
       "<div>\n",
       "<style scoped>\n",
       "    .dataframe tbody tr th:only-of-type {\n",
       "        vertical-align: middle;\n",
       "    }\n",
       "\n",
       "    .dataframe tbody tr th {\n",
       "        vertical-align: top;\n",
       "    }\n",
       "\n",
       "    .dataframe thead th {\n",
       "        text-align: right;\n",
       "    }\n",
       "</style>\n",
       "<table border=\"1\" class=\"dataframe\">\n",
       "  <thead>\n",
       "    <tr style=\"text-align: right;\">\n",
       "      <th></th>\n",
       "      <th>Country</th>\n",
       "      <th>Region</th>\n",
       "      <th>Happiness Rank</th>\n",
       "      <th>Happiness Score</th>\n",
       "    </tr>\n",
       "  </thead>\n",
       "  <tbody>\n",
       "    <tr>\n",
       "      <th>37</th>\n",
       "      <td>Taiwan</td>\n",
       "      <td>Eastern Asia</td>\n",
       "      <td>38</td>\n",
       "      <td>6.298</td>\n",
       "    </tr>\n",
       "    <tr>\n",
       "      <th>45</th>\n",
       "      <td>Japan</td>\n",
       "      <td>Eastern Asia</td>\n",
       "      <td>46</td>\n",
       "      <td>5.987</td>\n",
       "    </tr>\n",
       "    <tr>\n",
       "      <th>46</th>\n",
       "      <td>South Korea</td>\n",
       "      <td>Eastern Asia</td>\n",
       "      <td>47</td>\n",
       "      <td>5.984</td>\n",
       "    </tr>\n",
       "    <tr>\n",
       "      <th>71</th>\n",
       "      <td>Hong Kong</td>\n",
       "      <td>Eastern Asia</td>\n",
       "      <td>72</td>\n",
       "      <td>5.474</td>\n",
       "    </tr>\n",
       "    <tr>\n",
       "      <th>83</th>\n",
       "      <td>China</td>\n",
       "      <td>Eastern Asia</td>\n",
       "      <td>84</td>\n",
       "      <td>5.140</td>\n",
       "    </tr>\n",
       "    <tr>\n",
       "      <th>99</th>\n",
       "      <td>Mongolia</td>\n",
       "      <td>Eastern Asia</td>\n",
       "      <td>100</td>\n",
       "      <td>4.874</td>\n",
       "    </tr>\n",
       "  </tbody>\n",
       "</table>\n",
       "</div>"
      ],
      "text/plain": [
       "        Country        Region  Happiness Rank  Happiness Score\n",
       "37       Taiwan  Eastern Asia              38            6.298\n",
       "45        Japan  Eastern Asia              46            5.987\n",
       "46  South Korea  Eastern Asia              47            5.984\n",
       "71    Hong Kong  Eastern Asia              72            5.474\n",
       "83        China  Eastern Asia              84            5.140\n",
       "99     Mongolia  Eastern Asia             100            4.874"
      ]
     },
     "execution_count": 36,
     "metadata": {},
     "output_type": "execute_result"
    }
   ],
   "source": [
    "# Use the GroupBy.get_group() method to select data from the GroupBy object\n",
    "\n",
    "East_Asia = regions.get_group('Eastern Asia')\n",
    "\n",
    "# Note: region.get_group('column') is a DataFrame\n",
    "\n",
    "print (type(East_Asia))\n",
    "\n",
    "East_Asia[['Country','Region','Happiness Rank','Happiness Score']]"
   ]
  },
  {
   "cell_type": "code",
   "execution_count": 37,
   "id": "230a748f",
   "metadata": {},
   "outputs": [
    {
     "data": {
      "text/plain": [
       "Region\n",
       "Australia and New Zealand           2\n",
       "Central and Eastern Europe         29\n",
       "Eastern Asia                        6\n",
       "Latin America and Caribbean        22\n",
       "Middle East and Northern Africa    20\n",
       "North America                       2\n",
       "Southeastern Asia                   9\n",
       "Southern Asia                       7\n",
       "Sub-Saharan Africa                 40\n",
       "Western Europe                     21\n",
       "dtype: int64"
      ]
     },
     "execution_count": 37,
     "metadata": {},
     "output_type": "execute_result"
    }
   ],
   "source": [
    "# Use the GroupBy.size() to determine the number of countries in each region\n",
    "\n",
    "region_size = regions.size()\n",
    "region_size"
   ]
  },
  {
   "cell_type": "code",
   "execution_count": 11,
   "id": "c987de6c",
   "metadata": {},
   "outputs": [
    {
     "name": "stdout",
     "output_type": "stream",
     "text": [
      "<class 'pandas.core.frame.DataFrame'>\n",
      "Index(['Australia and New Zealand', 'Central and Eastern Europe',\n",
      "       'Eastern Asia', 'Latin America and Caribbean',\n",
      "       'Middle East and Northern Africa', 'North America', 'Southeastern Asia',\n",
      "       'Southern Asia', 'Sub-Saharan Africa', 'Western Europe'],\n",
      "      dtype='object', name='Region')\n",
      "Index(['Happiness Rank', 'Happiness Score', 'Standard Error',\n",
      "       'Economy (GDP per Capita)', 'Family', 'Health (Life Expectancy)',\n",
      "       'Freedom', 'Trust (Government Corruption)', 'Generosity',\n",
      "       'Dystopia Residual'],\n",
      "      dtype='object')\n"
     ]
    }
   ],
   "source": [
    "# Other useful GroupBy methods\n",
    "\n",
    "# This will display the mean value for all column data for each region\n",
    "# Note that each aggregation method results in a DataFrame:\n",
    "# DataFrame.index = region names, DataFrame.columns = the original column labels\n",
    "\n",
    "print (type(regions.mean()))\n",
    "print (regions.mean().index)\n",
    "print (regions.mean().columns)"
   ]
  },
  {
   "cell_type": "code",
   "execution_count": 41,
   "id": "74aa9dc4",
   "metadata": {},
   "outputs": [
    {
     "name": "stdout",
     "output_type": "stream",
     "text": [
      "                                 Happiness Rank  Happiness Score  \\\n",
      "Region                                                             \n",
      "Australia and New Zealand              9.500000         7.285000   \n",
      "Central and Eastern Europe            79.000000         5.332931   \n",
      "Eastern Asia                          64.500000         5.626167   \n",
      "Latin America and Caribbean           46.909091         6.144682   \n",
      "Middle East and Northern Africa       77.600000         5.406900   \n",
      "North America                         10.000000         7.273000   \n",
      "Southeastern Asia                     81.222222         5.317444   \n",
      "Southern Asia                        113.142857         4.580857   \n",
      "Sub-Saharan Africa                   127.900000         4.202800   \n",
      "Western Europe                        29.523810         6.689619   \n",
      "\n",
      "                                 Standard Error  Economy (GDP per Capita)  \\\n",
      "Region                                                                      \n",
      "Australia and New Zealand              0.037270                  1.291880   \n",
      "Central and Eastern Europe             0.045208                  0.942438   \n",
      "Eastern Asia                           0.037225                  1.151780   \n",
      "Latin America and Caribbean            0.061127                  0.876815   \n",
      "Middle East and Northern Africa        0.046337                  1.066973   \n",
      "North America                          0.036960                  1.360400   \n",
      "Southeastern Asia                      0.042691                  0.789054   \n",
      "Southern Asia                          0.032161                  0.560486   \n",
      "Sub-Saharan Africa                     0.055299                  0.380473   \n",
      "Western Europe                         0.037625                  1.298596   \n",
      "\n",
      "                                   Family  Health (Life Expectancy)   Freedom  \\\n",
      "Region                                                                          \n",
      "Australia and New Zealand        1.314450                  0.919965  0.645310   \n",
      "Central and Eastern Europe       1.053042                  0.718774  0.358269   \n",
      "Eastern Asia                     1.099427                  0.877388  0.462490   \n",
      "Latin America and Caribbean      1.104720                  0.703870  0.501740   \n",
      "Middle East and Northern Africa  0.920490                  0.705616  0.361751   \n",
      "North America                    1.284860                  0.883710  0.589505   \n",
      "Southeastern Asia                0.940468                  0.677357  0.557104   \n",
      "Southern Asia                    0.645321                  0.540830  0.373337   \n",
      "Sub-Saharan Africa               0.809085                  0.282332  0.365944   \n",
      "Western Europe                   1.247302                  0.909148  0.549926   \n",
      "\n",
      "                                 Trust (Government Corruption)  Generosity  \\\n",
      "Region                                                                       \n",
      "Australia and New Zealand                             0.392795    0.455315   \n",
      "Central and Eastern Europe                            0.086674    0.152264   \n",
      "Eastern Asia                                          0.127695    0.225885   \n",
      "Latin America and Caribbean                           0.117172    0.217788   \n",
      "Middle East and Northern Africa                       0.181702    0.190375   \n",
      "North America                                         0.244235    0.429580   \n",
      "Southeastern Asia                                     0.151276    0.419261   \n",
      "Southern Asia                                         0.102536    0.341429   \n",
      "Sub-Saharan Africa                                    0.123878    0.221137   \n",
      "Western Europe                                        0.231463    0.302109   \n",
      "\n",
      "                                 Dystopia Residual  \n",
      "Region                                              \n",
      "Australia and New Zealand                 2.265355  \n",
      "Central and Eastern Europe                2.021400  \n",
      "Eastern Asia                              1.681607  \n",
      "Latin America and Caribbean               2.622577  \n",
      "Middle East and Northern Africa           1.980008  \n",
      "North America                             2.480935  \n",
      "Southeastern Asia                         1.783020  \n",
      "Southern Asia                             2.016769  \n",
      "Sub-Saharan Africa                        2.019980  \n",
      "Western Europe                            2.151185  \n"
     ]
    },
    {
     "data": {
      "text/plain": [
       "<AxesSubplot:title={'center':'Regional Economy Score'}, ylabel='Region'>"
      ]
     },
     "execution_count": 41,
     "metadata": {},
     "output_type": "execute_result"
    },
    {
     "data": {
      "image/png": "[encoded data removed]",
      "text/plain": [
       "<Figure size 432x288 with 1 Axes>"
      ]
     },
     "metadata": {
      "needs_background": "light"
     },
     "output_type": "display_data"
    }
   ],
   "source": [
    "print (regions.mean())\n",
    "\n",
    "# We can easily make similar plot as before, for other metric\n",
    "# Let's look at Economy (GDP per Capita)\n",
    "\n",
    "regions.mean().plot(y ='Economy (GDP per Capita)', kind ='barh', title='Regional Economy Score', legend = None,\n",
    "                    xlim=(0,1.5))"
   ]
  },
  {
   "cell_type": "code",
   "execution_count": 48,
   "id": "ade538fc",
   "metadata": {},
   "outputs": [
    {
     "name": "stdout",
     "output_type": "stream",
     "text": [
      "Region\n",
      "Australia and New Zealand          7.285000\n",
      "Central and Eastern Europe         5.332931\n",
      "Eastern Asia                       5.626167\n",
      "Latin America and Caribbean        6.144682\n",
      "Middle East and Northern Africa    5.406900\n",
      "North America                      7.273000\n",
      "Southeastern Asia                  5.317444\n",
      "Southern Asia                      4.580857\n",
      "Sub-Saharan Africa                 4.202800\n",
      "Western Europe                     6.689619\n",
      "Name: Happiness Score, dtype: float64\n"
     ]
    },
    {
     "data": {
      "text/plain": [
       "<AxesSubplot:title={'center':'Regional Happiness Score'}, ylabel='Region'>"
      ]
     },
     "execution_count": 48,
     "metadata": {},
     "output_type": "execute_result"
    },
    {
     "data": {
      "image/png": "[encoded data removed]",
      "text/plain": [
       "<Figure size 432x288 with 1 Axes>"
      ]
     },
     "metadata": {
      "needs_background": "light"
     },
     "output_type": "display_data"
    }
   ],
   "source": [
    "region_mean = regions.mean()\n",
    "mean_happiness = region_mean['Happiness Score']\n",
    "\n",
    "print (mean_happiness)\n",
    "\n",
    "# We can easily make similar plot as before, for other metric\n",
    "# Let's look at Economy (GDP per Capita)\n",
    "\n",
    "mean_happiness.plot(kind ='barh', title='Regional Happiness Score', legend = None,\n",
    "                    xlim=(0,8))"
   ]
  },
  {
   "cell_type": "code",
   "execution_count": 49,
   "id": "7eef20be",
   "metadata": {},
   "outputs": [
    {
     "name": "stdout",
     "output_type": "stream",
     "text": [
      "                                        Country  Happiness Rank  \\\n",
      "Region                                                            \n",
      "Australia and New Zealand           New Zealand              10   \n",
      "Central and Eastern Europe           Uzbekistan             134   \n",
      "Eastern Asia                             Taiwan             100   \n",
      "Latin America and Caribbean           Venezuela             119   \n",
      "Middle East and Northern Africa           Yemen             156   \n",
      "North America                     United States              15   \n",
      "Southeastern Asia                       Vietnam             145   \n",
      "Southern Asia                         Sri Lanka             153   \n",
      "Sub-Saharan Africa                     Zimbabwe             158   \n",
      "Western Europe                   United Kingdom             102   \n",
      "\n",
      "                                 Happiness Score  Standard Error  \\\n",
      "Region                                                             \n",
      "Australia and New Zealand                  7.286         0.04083   \n",
      "Central and Eastern Europe                 6.505         0.06913   \n",
      "Eastern Asia                               6.298         0.05051   \n",
      "Latin America and Caribbean                7.226         0.13693   \n",
      "Middle East and Northern Africa            7.278         0.07832   \n",
      "North America                              7.427         0.03839   \n",
      "Southeastern Asia                          6.798         0.06698   \n",
      "Southern Asia                              5.253         0.03751   \n",
      "Sub-Saharan Africa                         5.477         0.11068   \n",
      "Western Europe                             7.587         0.05635   \n",
      "\n",
      "                                 Economy (GDP per Capita)   Family  \\\n",
      "Region                                                               \n",
      "Australia and New Zealand                         1.33358  1.31967   \n",
      "Central and Eastern Europe                        1.18498  1.34043   \n",
      "Eastern Asia                                      1.38604  1.30060   \n",
      "Latin America and Caribbean                       1.21183  1.30477   \n",
      "Middle East and Northern Africa                   1.69042  1.22393   \n",
      "North America                                     1.39451  1.32261   \n",
      "Southeastern Asia                                 1.52186  1.26504   \n",
      "Southern Asia                                     0.83524  1.10395   \n",
      "Sub-Saharan Africa                                1.06024  1.18468   \n",
      "Western Europe                                    1.56391  1.40223   \n",
      "\n",
      "                                 Health (Life Expectancy)  Freedom  \\\n",
      "Region                                                               \n",
      "Australia and New Zealand                         0.93156  0.65124   \n",
      "Central and Eastern Europe                        0.87337  0.65821   \n",
      "Eastern Asia                                      1.01328  0.59608   \n",
      "Latin America and Caribbean                       0.86027  0.63376   \n",
      "Middle East and Northern Africa                   0.91387  0.64157   \n",
      "North America                                     0.90563  0.63297   \n",
      "Southeastern Asia                                 1.02525  0.66246   \n",
      "Southern Asia                                     0.70806  0.53726   \n",
      "Sub-Saharan Africa                                0.70950  0.59201   \n",
      "Western Europe                                    0.95562  0.66973   \n",
      "\n",
      "                                 Trust (Government Corruption)  Generosity  \\\n",
      "Region                                                                       \n",
      "Australia and New Zealand                              0.42922     0.47501   \n",
      "Central and Eastern Europe                             0.38331     0.30030   \n",
      "Eastern Asia                                           0.37124     0.39478   \n",
      "Latin America and Caribbean                            0.24558     0.46187   \n",
      "Middle East and Northern Africa                        0.52208     0.47179   \n",
      "North America                                          0.32957     0.45811   \n",
      "Southeastern Asia                                      0.49210     0.79588   \n",
      "Southern Asia                                          0.15445     0.47998   \n",
      "Sub-Saharan Africa                                     0.55191     0.50318   \n",
      "Western Europe                                         0.48357     0.51912   \n",
      "\n",
      "                                 Dystopia Residual  \n",
      "Region                                              \n",
      "Australia and New Zealand                  2.26646  \n",
      "Central and Eastern Europe                 3.10712  \n",
      "Eastern Asia                               2.32323  \n",
      "Latin America and Caribbean                3.60214  \n",
      "Middle East and Northern Africa            3.08854  \n",
      "North America                              2.51011  \n",
      "Southeastern Asia                          2.31945  \n",
      "Southern Asia                              3.10709  \n",
      "Sub-Saharan Africa                         3.05137  \n",
      "Western Europe                             2.70201  \n"
     ]
    }
   ],
   "source": [
    "# Other useful GroupBy methods\n",
    "\n",
    "# This will display the maximum value for all column data for each region\n",
    "print (regions.max())"
   ]
  },
  {
   "cell_type": "code",
   "execution_count": 17,
   "id": "00da00c9",
   "metadata": {},
   "outputs": [
    {
     "name": "stdout",
     "output_type": "stream",
     "text": [
      "                                     mean    max\n",
      "Region                                          \n",
      "Australia and New Zealand        7.285000  7.286\n",
      "Central and Eastern Europe       5.332931  6.505\n",
      "Eastern Asia                     5.626167  6.298\n",
      "Latin America and Caribbean      6.144682  7.226\n",
      "Middle East and Northern Africa  5.406900  7.278\n",
      "North America                    7.273000  7.427\n",
      "Southeastern Asia                5.317444  6.798\n",
      "Southern Asia                    4.580857  5.253\n",
      "Sub-Saharan Africa               4.202800  5.477\n",
      "Western Europe                   6.689619  7.587\n"
     ]
    }
   ],
   "source": [
    "# Other useful GroupBy methods: agg()\n",
    "\n",
    "# The usefulness of agg() method: allowing multiple functions at the same time\n",
    "# We want to see mean and max values of regional happiness scores\n",
    "# Syntax: GroupBy.agg(['mean', 'max']). Note the square brackets.\n",
    "\n",
    "regions_happy = regions['Happiness Score']\n",
    "print (regions_happy.agg(['mean', 'max']))"
   ]
  },
  {
   "cell_type": "code",
   "execution_count": 18,
   "id": "6e937a6e",
   "metadata": {},
   "outputs": [
    {
     "name": "stdout",
     "output_type": "stream",
     "text": [
      "                                     mean    max      diff\n",
      "Region                                                    \n",
      "Australia and New Zealand        7.285000  7.286  0.001000\n",
      "Central and Eastern Europe       5.332931  6.505  1.172069\n",
      "Eastern Asia                     5.626167  6.298  0.671833\n",
      "Latin America and Caribbean      6.144682  7.226  1.081318\n",
      "Middle East and Northern Africa  5.406900  7.278  1.871100\n",
      "North America                    7.273000  7.427  0.154000\n",
      "Southeastern Asia                5.317444  6.798  1.480556\n",
      "Southern Asia                    4.580857  5.253  0.672143\n",
      "Sub-Saharan Africa               4.202800  5.477  1.274200\n",
      "Western Europe                   6.689619  7.587  0.897381\n"
     ]
    }
   ],
   "source": [
    "# Somewhat advanced feature: You can also pass user-defined function to agg()\n",
    "\n",
    "# Calculating the difference between max and mean of the score\n",
    "\n",
    "def diff(group):\n",
    "    return (group.max() - group.mean())\n",
    "\n",
    "print (regions_happy.agg(['mean', 'max', diff]))"
   ]
  },
  {
   "cell_type": "markdown",
   "id": "50340e72",
   "metadata": {},
   "source": [
    "<h3>Apply the pivot_table() method to aggregate data</h3>"
   ]
  },
  {
   "cell_type": "code",
   "execution_count": 19,
   "id": "a560d169",
   "metadata": {},
   "outputs": [
    {
     "name": "stdout",
     "output_type": "stream",
     "text": [
      "                                 Dystopia Residual  Economy (GDP per Capita)  \\\n",
      "Region                                                                         \n",
      "Australia and New Zealand                 2.265355                  1.291880   \n",
      "Central and Eastern Europe                2.021400                  0.942438   \n",
      "Eastern Asia                              1.681607                  1.151780   \n",
      "Latin America and Caribbean               2.622577                  0.876815   \n",
      "Middle East and Northern Africa           1.980008                  1.066973   \n",
      "North America                             2.480935                  1.360400   \n",
      "Southeastern Asia                         1.783020                  0.789054   \n",
      "Southern Asia                             2.016769                  0.560486   \n",
      "Sub-Saharan Africa                        2.019980                  0.380473   \n",
      "Western Europe                            2.151185                  1.298596   \n",
      "\n",
      "                                   Family   Freedom  Generosity  \\\n",
      "Region                                                            \n",
      "Australia and New Zealand        1.314450  0.645310    0.455315   \n",
      "Central and Eastern Europe       1.053042  0.358269    0.152264   \n",
      "Eastern Asia                     1.099427  0.462490    0.225885   \n",
      "Latin America and Caribbean      1.104720  0.501740    0.217788   \n",
      "Middle East and Northern Africa  0.920490  0.361751    0.190375   \n",
      "North America                    1.284860  0.589505    0.429580   \n",
      "Southeastern Asia                0.940468  0.557104    0.419261   \n",
      "Southern Asia                    0.645321  0.373337    0.341429   \n",
      "Sub-Saharan Africa               0.809085  0.365944    0.221137   \n",
      "Western Europe                   1.247302  0.549926    0.302109   \n",
      "\n",
      "                                 Happiness Rank  Happiness Score  \\\n",
      "Region                                                             \n",
      "Australia and New Zealand              9.500000         7.285000   \n",
      "Central and Eastern Europe            79.000000         5.332931   \n",
      "Eastern Asia                          64.500000         5.626167   \n",
      "Latin America and Caribbean           46.909091         6.144682   \n",
      "Middle East and Northern Africa       77.600000         5.406900   \n",
      "North America                         10.000000         7.273000   \n",
      "Southeastern Asia                     81.222222         5.317444   \n",
      "Southern Asia                        113.142857         4.580857   \n",
      "Sub-Saharan Africa                   127.900000         4.202800   \n",
      "Western Europe                        29.523810         6.689619   \n",
      "\n",
      "                                 Health (Life Expectancy)  Standard Error  \\\n",
      "Region                                                                      \n",
      "Australia and New Zealand                        0.919965        0.037270   \n",
      "Central and Eastern Europe                       0.718774        0.045208   \n",
      "Eastern Asia                                     0.877388        0.037225   \n",
      "Latin America and Caribbean                      0.703870        0.061127   \n",
      "Middle East and Northern Africa                  0.705616        0.046337   \n",
      "North America                                    0.883710        0.036960   \n",
      "Southeastern Asia                                0.677357        0.042691   \n",
      "Southern Asia                                    0.540830        0.032161   \n",
      "Sub-Saharan Africa                               0.282332        0.055299   \n",
      "Western Europe                                   0.909148        0.037625   \n",
      "\n",
      "                                 Trust (Government Corruption)  \n",
      "Region                                                          \n",
      "Australia and New Zealand                             0.392795  \n",
      "Central and Eastern Europe                            0.086674  \n",
      "Eastern Asia                                          0.127695  \n",
      "Latin America and Caribbean                           0.117172  \n",
      "Middle East and Northern Africa                       0.181702  \n",
      "North America                                         0.244235  \n",
      "Southeastern Asia                                     0.151276  \n",
      "Southern Asia                                         0.102536  \n",
      "Sub-Saharan Africa                                    0.123878  \n",
      "Western Europe                                        0.231463  \n"
     ]
    }
   ],
   "source": [
    "# pandas pivot_table() is similar to Excel's pivot table function\n",
    "\n",
    "regions = happiness2015.pivot_table(index=['Region'])\n",
    "\n",
    "print (regions)    # Interesting observation: the columns are arranged alphabetically"
   ]
  },
  {
   "cell_type": "code",
   "execution_count": 20,
   "id": "13d30f8a",
   "metadata": {},
   "outputs": [
    {
     "name": "stdout",
     "output_type": "stream",
     "text": [
      "                                           Dystopia Residual  \\\n",
      "Region                     Country                             \n",
      "Australia and New Zealand  Australia                 2.26646   \n",
      "                           New Zealand               2.26425   \n",
      "Central and Eastern Europe Albania                   1.89894   \n",
      "                           Armenia                   1.75873   \n",
      "                           Azerbaijan                2.00073   \n",
      "...                                                      ...   \n",
      "Western Europe             Portugal                  1.26462   \n",
      "                           Spain                     2.12367   \n",
      "                           Sweden                    2.37119   \n",
      "                           Switzerland               2.51738   \n",
      "                           United Kingdom            1.96994   \n",
      "\n",
      "                                           Economy (GDP per Capita)   Family  \\\n",
      "Region                     Country                                             \n",
      "Australia and New Zealand  Australia                        1.33358  1.30923   \n",
      "                           New Zealand                      1.25018  1.31967   \n",
      "Central and Eastern Europe Albania                          0.87867  0.80434   \n",
      "                           Armenia                          0.76821  0.77711   \n",
      "                           Azerbaijan                       1.02389  0.93793   \n",
      "...                                                             ...      ...   \n",
      "Western Europe             Portugal                         1.15991  1.13935   \n",
      "                           Spain                            1.23011  1.31379   \n",
      "                           Sweden                           1.33171  1.28907   \n",
      "                           Switzerland                      1.39651  1.34951   \n",
      "                           United Kingdom                   1.26637  1.28548   \n",
      "\n",
      "                                           Freedom  Generosity  \\\n",
      "Region                     Country                               \n",
      "Australia and New Zealand  Australia       0.65124     0.43562   \n",
      "                           New Zealand     0.63938     0.47501   \n",
      "Central and Eastern Europe Albania         0.35733     0.14272   \n",
      "                           Armenia         0.19847     0.07855   \n",
      "                           Azerbaijan      0.37030     0.07799   \n",
      "...                                            ...         ...   \n",
      "Western Europe             Portugal        0.51469     0.13719   \n",
      "                           Spain           0.45951     0.18227   \n",
      "                           Sweden          0.65980     0.36262   \n",
      "                           Switzerland     0.66557     0.29678   \n",
      "                           United Kingdom  0.59625     0.51912   \n",
      "\n",
      "                                           Happiness Rank  Happiness Score  \\\n",
      "Region                     Country                                           \n",
      "Australia and New Zealand  Australia                   10            7.284   \n",
      "                           New Zealand                  9            7.286   \n",
      "Central and Eastern Europe Albania                     95            4.959   \n",
      "                           Armenia                    127            4.350   \n",
      "                           Azerbaijan                  80            5.212   \n",
      "...                                                   ...              ...   \n",
      "Western Europe             Portugal                    88            5.102   \n",
      "                           Spain                       36            6.329   \n",
      "                           Sweden                       8            7.364   \n",
      "                           Switzerland                  1            7.587   \n",
      "                           United Kingdom              21            6.867   \n",
      "\n",
      "                                           Health (Life Expectancy)  \\\n",
      "Region                     Country                                    \n",
      "Australia and New Zealand  Australia                        0.93156   \n",
      "                           New Zealand                      0.90837   \n",
      "Central and Eastern Europe Albania                          0.81325   \n",
      "                           Armenia                          0.72990   \n",
      "                           Azerbaijan                       0.64045   \n",
      "...                                                             ...   \n",
      "Western Europe             Portugal                         0.87519   \n",
      "                           Spain                            0.95562   \n",
      "                           Sweden                           0.91087   \n",
      "                           Switzerland                      0.94143   \n",
      "                           United Kingdom                   0.90943   \n",
      "\n",
      "                                           Standard Error  \\\n",
      "Region                     Country                          \n",
      "Australia and New Zealand  Australia              0.04083   \n",
      "                           New Zealand            0.03371   \n",
      "Central and Eastern Europe Albania                0.05013   \n",
      "                           Armenia                0.04763   \n",
      "                           Azerbaijan             0.03363   \n",
      "...                                                   ...   \n",
      "Western Europe             Portugal               0.04802   \n",
      "                           Spain                  0.03468   \n",
      "                           Sweden                 0.03157   \n",
      "                           Switzerland            0.03411   \n",
      "                           United Kingdom         0.01866   \n",
      "\n",
      "                                           Trust (Government Corruption)  \n",
      "Region                     Country                                        \n",
      "Australia and New Zealand  Australia                             0.35637  \n",
      "                           New Zealand                           0.42922  \n",
      "Central and Eastern Europe Albania                               0.06413  \n",
      "                           Armenia                               0.03900  \n",
      "                           Azerbaijan                            0.16065  \n",
      "...                                                                  ...  \n",
      "Western Europe             Portugal                              0.01078  \n",
      "                           Spain                                 0.06398  \n",
      "                           Sweden                                0.43844  \n",
      "                           Switzerland                           0.41978  \n",
      "                           United Kingdom                        0.32067  \n",
      "\n",
      "[158 rows x 10 columns]\n"
     ]
    }
   ],
   "source": [
    "# You can add multiple columns in the index for pv_table\n",
    "\n",
    "regions_country = happiness2015.pivot_table(index=['Region', 'Country'])\n",
    "print(regions_country)"
   ]
  },
  {
   "cell_type": "code",
   "execution_count": 21,
   "id": "ecb077fd",
   "metadata": {},
   "outputs": [
    {
     "name": "stdout",
     "output_type": "stream",
     "text": [
      "                                 Happiness Score\n",
      "Region                                          \n",
      "Australia and New Zealand               7.285000\n",
      "Central and Eastern Europe              5.332931\n",
      "Eastern Asia                            5.626167\n",
      "Latin America and Caribbean             6.144682\n",
      "Middle East and Northern Africa         5.406900\n",
      "North America                           7.273000\n",
      "Southeastern Asia                       5.317444\n",
      "Southern Asia                           4.580857\n",
      "Sub-Saharan Africa                      4.202800\n",
      "Western Europe                          6.689619\n"
     ]
    }
   ],
   "source": [
    "# Add column 'Happines Score' to the pivot table \n",
    "\n",
    "regions = happiness2015.pivot_table(index=['Region'], values = ['Happiness Score'])\n",
    "# Note that the mean of Happiness Score is the result - mean() is the default function\n",
    "\n",
    "print (regions)"
   ]
  },
  {
   "cell_type": "code",
   "execution_count": 22,
   "id": "9361b72f",
   "metadata": {},
   "outputs": [
    {
     "name": "stdout",
     "output_type": "stream",
     "text": [
      "                                           amax            mean  \\\n",
      "                                Happiness Score Happiness Score   \n",
      "Region                                                            \n",
      "Australia and New Zealand                 7.286        7.285000   \n",
      "Central and Eastern Europe                6.505        5.332931   \n",
      "Eastern Asia                              6.298        5.626167   \n",
      "Latin America and Caribbean               7.226        6.144682   \n",
      "Middle East and Northern Africa           7.278        5.406900   \n",
      "North America                             7.427        7.273000   \n",
      "Southeastern Asia                         6.798        5.317444   \n",
      "Southern Asia                             5.253        4.580857   \n",
      "Sub-Saharan Africa                        5.477        4.202800   \n",
      "Western Europe                            7.587        6.689619   \n",
      "\n",
      "                                            len  \n",
      "                                Happiness Score  \n",
      "Region                                           \n",
      "Australia and New Zealand                   2.0  \n",
      "Central and Eastern Europe                 29.0  \n",
      "Eastern Asia                                6.0  \n",
      "Latin America and Caribbean                22.0  \n",
      "Middle East and Northern Africa            20.0  \n",
      "North America                               2.0  \n",
      "Southeastern Asia                           9.0  \n",
      "Southern Asia                               7.0  \n",
      "Sub-Saharan Africa                         40.0  \n",
      "Western Europe                             21.0  \n"
     ]
    }
   ],
   "source": [
    "# Add aggfunc to aggregate data\n",
    "\n",
    "regions_happiness = happiness2015.pivot_table(index=['Region'], values=['Happiness Score'], \n",
    "                                              aggfunc=[np.max, 'mean', len]) \n",
    "\n",
    "# Note: many ways to call the functions\n",
    "                            \n",
    "print (regions_happiness)"
   ]
  },
  {
   "cell_type": "code",
   "execution_count": 23,
   "id": "1046228f",
   "metadata": {},
   "outputs": [
    {
     "name": "stdout",
     "output_type": "stream",
     "text": [
      "                                           amax            mean  \\\n",
      "                                Happiness Score Happiness Score   \n",
      "Region                                                            \n",
      "Australia and New Zealand                 7.286        7.285000   \n",
      "Central and Eastern Europe                6.505        5.332931   \n",
      "Eastern Asia                              6.298        5.626167   \n",
      "Latin America and Caribbean               7.226        6.144682   \n",
      "Middle East and Northern Africa           7.278        5.406900   \n",
      "North America                             7.427        7.273000   \n",
      "Southeastern Asia                         6.798        5.317444   \n",
      "Southern Asia                             5.253        4.580857   \n",
      "Sub-Saharan Africa                        5.477        4.202800   \n",
      "Western Europe                            7.587        6.689619   \n",
      "All                                       7.587        5.375734   \n",
      "\n",
      "                                            len  \n",
      "                                Happiness Score  \n",
      "Region                                           \n",
      "Australia and New Zealand                   2.0  \n",
      "Central and Eastern Europe                 29.0  \n",
      "Eastern Asia                                6.0  \n",
      "Latin America and Caribbean                22.0  \n",
      "Middle East and Northern Africa            20.0  \n",
      "North America                               2.0  \n",
      "Southeastern Asia                           9.0  \n",
      "Southern Asia                               7.0  \n",
      "Sub-Saharan Africa                         40.0  \n",
      "Western Europe                             21.0  \n",
      "All                                       158.0  \n"
     ]
    }
   ],
   "source": [
    "# The option 'margins' adds a row to summarize the column data\n",
    "# For example: for a grand total, max column value, or average value\n",
    "\n",
    "regions_happiness = happiness2015.pivot_table(index=['Region'], values=['Happiness Score'], \n",
    "                                              aggfunc=[np.max, 'mean', len], margins=True) \n",
    "\n",
    "# Note: in the row 'All', there are different results for each column \n",
    "                            \n",
    "print (regions_happiness)"
   ]
  },
  {
   "cell_type": "code",
   "execution_count": 24,
   "id": "0d883bf6",
   "metadata": {},
   "outputs": [
    {
     "data": {
      "text/plain": [
       "<AxesSubplot:title={'center':'Mean Happiness Scores by Region'}, ylabel='Region'>"
      ]
     },
     "execution_count": 24,
     "metadata": {},
     "output_type": "execute_result"
    },
    {
     "data": {
      "image/png": "[encoded data removed]",
      "text/plain": [
       "<Figure size 432x288 with 1 Axes>"
      ]
     },
     "metadata": {
      "needs_background": "light"
     },
     "output_type": "display_data"
    }
   ],
   "source": [
    "# Plot the happiness scores with the world average\n",
    "\n",
    "regions_happiness = happiness2015.pivot_table(index=['Region'], values=['Happiness Score'], \n",
    "                                              aggfunc=['mean'], margins=True) \n",
    "\n",
    "regions_happiness.plot(kind='barh', title='Mean Happiness Scores by Region', xlim=(0,8), legend=False)"
   ]
  },
  {
   "cell_type": "code",
   "execution_count": null,
   "id": "3354c71f",
   "metadata": {},
   "outputs": [],
   "source": []
  }
 ],
 "metadata": {
  "kernelspec": {
   "display_name": "Python 3 (ipykernel)",
   "language": "python",
   "name": "python3"
  },
  "language_info": {
   "codemirror_mode": {
    "name": "ipython",
    "version": 3
   },
   "file_extension": ".py",
   "mimetype": "text/x-python",
   "name": "python",
   "nbconvert_exporter": "python",
   "pygments_lexer": "ipython3",
   "version": "3.9.7"
  }
 },
 "nbformat": 4,
 "nbformat_minor": 5
}
