{
 "cells": [
  {
   "cell_type": "code",
   "execution_count": 1,
   "id": "c4035a9c",
   "metadata": {},
   "outputs": [
    {
     "data": {
      "text/html": [
       "<div>\n",
       "<style scoped>\n",
       "    .dataframe tbody tr th:only-of-type {\n",
       "        vertical-align: middle;\n",
       "    }\n",
       "\n",
       "    .dataframe tbody tr th {\n",
       "        vertical-align: top;\n",
       "    }\n",
       "\n",
       "    .dataframe thead th {\n",
       "        text-align: right;\n",
       "    }\n",
       "</style>\n",
       "<table border=\"1\" class=\"dataframe\">\n",
       "  <thead>\n",
       "    <tr style=\"text-align: right;\">\n",
       "      <th></th>\n",
       "      <th>HRvalue</th>\n",
       "      <th>ts</th>\n",
       "      <th>HRvalid</th>\n",
       "      <th>SpO2valid</th>\n",
       "      <th>SpO2value</th>\n",
       "    </tr>\n",
       "  </thead>\n",
       "  <tbody>\n",
       "    <tr>\n",
       "      <th>0</th>\n",
       "      <td>115</td>\n",
       "      <td>1649108316694</td>\n",
       "      <td>True</td>\n",
       "      <td>True</td>\n",
       "      <td>96.727986</td>\n",
       "    </tr>\n",
       "    <tr>\n",
       "      <th>1</th>\n",
       "      <td>115</td>\n",
       "      <td>1649108451425</td>\n",
       "      <td>True</td>\n",
       "      <td>True</td>\n",
       "      <td>99.135144</td>\n",
       "    </tr>\n",
       "    <tr>\n",
       "      <th>2</th>\n",
       "      <td>65</td>\n",
       "      <td>1649108161222</td>\n",
       "      <td>True</td>\n",
       "      <td>False</td>\n",
       "      <td>'-999</td>\n",
       "    </tr>\n",
       "    <tr>\n",
       "      <th>3</th>\n",
       "      <td>65</td>\n",
       "      <td>1649108410058</td>\n",
       "      <td>True</td>\n",
       "      <td>True</td>\n",
       "      <td>95.70606599999999</td>\n",
       "    </tr>\n",
       "    <tr>\n",
       "      <th>4</th>\n",
       "      <td>166</td>\n",
       "      <td>1649108244071</td>\n",
       "      <td>True</td>\n",
       "      <td>True</td>\n",
       "      <td>99.24465</td>\n",
       "    </tr>\n",
       "    <tr>\n",
       "      <th>5</th>\n",
       "      <td>100</td>\n",
       "      <td>1649108347984</td>\n",
       "      <td>True</td>\n",
       "      <td>False</td>\n",
       "      <td>'-999</td>\n",
       "    </tr>\n",
       "    <tr>\n",
       "      <th>6</th>\n",
       "      <td>100</td>\n",
       "      <td>1649108389374</td>\n",
       "      <td>True</td>\n",
       "      <td>True</td>\n",
       "      <td>98.500104</td>\n",
       "    </tr>\n",
       "    <tr>\n",
       "      <th>7</th>\n",
       "      <td>100</td>\n",
       "      <td>1649108482492</td>\n",
       "      <td>True</td>\n",
       "      <td>True</td>\n",
       "      <td>98.794776</td>\n",
       "    </tr>\n",
       "    <tr>\n",
       "      <th>8</th>\n",
       "      <td>100</td>\n",
       "      <td>1649108503221</td>\n",
       "      <td>True</td>\n",
       "      <td>True</td>\n",
       "      <td>96.727986</td>\n",
       "    </tr>\n",
       "    <tr>\n",
       "      <th>9</th>\n",
       "      <td>100</td>\n",
       "      <td>1649108524051</td>\n",
       "      <td>True</td>\n",
       "      <td>False</td>\n",
       "      <td>'-999</td>\n",
       "    </tr>\n",
       "    <tr>\n",
       "      <th>10</th>\n",
       "      <td>100</td>\n",
       "      <td>1649108565525</td>\n",
       "      <td>True</td>\n",
       "      <td>True</td>\n",
       "      <td>99.657</td>\n",
       "    </tr>\n",
       "    <tr>\n",
       "      <th>11</th>\n",
       "      <td>150</td>\n",
       "      <td>1649108368672</td>\n",
       "      <td>True</td>\n",
       "      <td>True</td>\n",
       "      <td>99.712434</td>\n",
       "    </tr>\n",
       "    <tr>\n",
       "      <th>12</th>\n",
       "      <td>150</td>\n",
       "      <td>1649108513549</td>\n",
       "      <td>True</td>\n",
       "      <td>False</td>\n",
       "      <td>'-999</td>\n",
       "    </tr>\n",
       "    <tr>\n",
       "      <th>13</th>\n",
       "      <td>93</td>\n",
       "      <td>1649108544735</td>\n",
       "      <td>True</td>\n",
       "      <td>True</td>\n",
       "      <td>0.2865359999999697</td>\n",
       "    </tr>\n",
       "    <tr>\n",
       "      <th>14</th>\n",
       "      <td>'-999</td>\n",
       "      <td>1649108150861</td>\n",
       "      <td>False</td>\n",
       "      <td>False</td>\n",
       "      <td>'-999</td>\n",
       "    </tr>\n",
       "    <tr>\n",
       "      <th>15</th>\n",
       "      <td>136</td>\n",
       "      <td>1649108181923</td>\n",
       "      <td>True</td>\n",
       "      <td>True</td>\n",
       "      <td>99.796266</td>\n",
       "    </tr>\n",
       "    <tr>\n",
       "      <th>16</th>\n",
       "      <td>136</td>\n",
       "      <td>1649108555183</td>\n",
       "      <td>True</td>\n",
       "      <td>True</td>\n",
       "      <td>98.169384</td>\n",
       "    </tr>\n",
       "    <tr>\n",
       "      <th>17</th>\n",
       "      <td>46</td>\n",
       "      <td>1649108202702</td>\n",
       "      <td>True</td>\n",
       "      <td>True</td>\n",
       "      <td>99.54225</td>\n",
       "    </tr>\n",
       "    <tr>\n",
       "      <th>18</th>\n",
       "      <td>71</td>\n",
       "      <td>1649108264907</td>\n",
       "      <td>True</td>\n",
       "      <td>True</td>\n",
       "      <td>96.23505</td>\n",
       "    </tr>\n",
       "    <tr>\n",
       "      <th>19</th>\n",
       "      <td>214</td>\n",
       "      <td>1649108223379</td>\n",
       "      <td>True</td>\n",
       "      <td>False</td>\n",
       "      <td>'-999</td>\n",
       "    </tr>\n",
       "    <tr>\n",
       "      <th>20</th>\n",
       "      <td>88</td>\n",
       "      <td>1649108275252</td>\n",
       "      <td>True</td>\n",
       "      <td>False</td>\n",
       "      <td>'-999</td>\n",
       "    </tr>\n",
       "    <tr>\n",
       "      <th>21</th>\n",
       "      <td>88</td>\n",
       "      <td>1649108358316</td>\n",
       "      <td>True</td>\n",
       "      <td>True</td>\n",
       "      <td>96.23505</td>\n",
       "    </tr>\n",
       "    <tr>\n",
       "      <th>22</th>\n",
       "      <td>88</td>\n",
       "      <td>1649108420405</td>\n",
       "      <td>True</td>\n",
       "      <td>True</td>\n",
       "      <td>96.960936</td>\n",
       "    </tr>\n",
       "    <tr>\n",
       "      <th>23</th>\n",
       "      <td>88</td>\n",
       "      <td>1649108472120</td>\n",
       "      <td>True</td>\n",
       "      <td>True</td>\n",
       "      <td>96.23505</td>\n",
       "    </tr>\n",
       "    <tr>\n",
       "      <th>24</th>\n",
       "      <td>88</td>\n",
       "      <td>1649108534394</td>\n",
       "      <td>True</td>\n",
       "      <td>False</td>\n",
       "      <td>'-999</td>\n",
       "    </tr>\n",
       "    <tr>\n",
       "      <th>25</th>\n",
       "      <td>125</td>\n",
       "      <td>1649108233725</td>\n",
       "      <td>True</td>\n",
       "      <td>True</td>\n",
       "      <td>98.752554</td>\n",
       "    </tr>\n",
       "    <tr>\n",
       "      <th>26</th>\n",
       "      <td>125</td>\n",
       "      <td>1649108306318</td>\n",
       "      <td>True</td>\n",
       "      <td>True</td>\n",
       "      <td>99.135144</td>\n",
       "    </tr>\n",
       "    <tr>\n",
       "      <th>27</th>\n",
       "      <td>125</td>\n",
       "      <td>1649108327029</td>\n",
       "      <td>True</td>\n",
       "      <td>True</td>\n",
       "      <td>96.23505</td>\n",
       "    </tr>\n",
       "    <tr>\n",
       "      <th>28</th>\n",
       "      <td>125</td>\n",
       "      <td>1649108337641</td>\n",
       "      <td>True</td>\n",
       "      <td>True</td>\n",
       "      <td>93.124776</td>\n",
       "    </tr>\n",
       "    <tr>\n",
       "      <th>29</th>\n",
       "      <td>125</td>\n",
       "      <td>1649108461775</td>\n",
       "      <td>True</td>\n",
       "      <td>True</td>\n",
       "      <td>99.727416</td>\n",
       "    </tr>\n",
       "    <tr>\n",
       "      <th>30</th>\n",
       "      <td>78</td>\n",
       "      <td>1649108213055</td>\n",
       "      <td>True</td>\n",
       "      <td>True</td>\n",
       "      <td>98.651946</td>\n",
       "    </tr>\n",
       "    <tr>\n",
       "      <th>31</th>\n",
       "      <td>78</td>\n",
       "      <td>1649108254434</td>\n",
       "      <td>True</td>\n",
       "      <td>True</td>\n",
       "      <td>96.727986</td>\n",
       "    </tr>\n",
       "    <tr>\n",
       "      <th>32</th>\n",
       "      <td>78</td>\n",
       "      <td>1649108430728</td>\n",
       "      <td>True</td>\n",
       "      <td>True</td>\n",
       "      <td>99.275976</td>\n",
       "    </tr>\n",
       "    <tr>\n",
       "      <th>33</th>\n",
       "      <td>78</td>\n",
       "      <td>1649108441079</td>\n",
       "      <td>True</td>\n",
       "      <td>True</td>\n",
       "      <td>97.3998</td>\n",
       "    </tr>\n",
       "    <tr>\n",
       "      <th>34</th>\n",
       "      <td>107</td>\n",
       "      <td>1649108140490</td>\n",
       "      <td>True</td>\n",
       "      <td>True</td>\n",
       "      <td>77.996466</td>\n",
       "    </tr>\n",
       "    <tr>\n",
       "      <th>35</th>\n",
       "      <td>107</td>\n",
       "      <td>1649108171567</td>\n",
       "      <td>True</td>\n",
       "      <td>False</td>\n",
       "      <td>'-999</td>\n",
       "    </tr>\n",
       "    <tr>\n",
       "      <th>36</th>\n",
       "      <td>107</td>\n",
       "      <td>1649108192268</td>\n",
       "      <td>True</td>\n",
       "      <td>True</td>\n",
       "      <td>98.607</td>\n",
       "    </tr>\n",
       "    <tr>\n",
       "      <th>37</th>\n",
       "      <td>107</td>\n",
       "      <td>1649108295971</td>\n",
       "      <td>True</td>\n",
       "      <td>True</td>\n",
       "      <td>95.975064</td>\n",
       "    </tr>\n",
       "    <tr>\n",
       "      <th>38</th>\n",
       "      <td>107</td>\n",
       "      <td>1649108379027</td>\n",
       "      <td>True</td>\n",
       "      <td>False</td>\n",
       "      <td>'-999</td>\n",
       "    </tr>\n",
       "    <tr>\n",
       "      <th>39</th>\n",
       "      <td>107</td>\n",
       "      <td>1649108399714</td>\n",
       "      <td>True</td>\n",
       "      <td>True</td>\n",
       "      <td>97.802616</td>\n",
       "    </tr>\n",
       "    <tr>\n",
       "      <th>40</th>\n",
       "      <td>68</td>\n",
       "      <td>1649108285600</td>\n",
       "      <td>True</td>\n",
       "      <td>True</td>\n",
       "      <td>97.605714</td>\n",
       "    </tr>\n",
       "    <tr>\n",
       "      <th>41</th>\n",
       "      <td>83</td>\n",
       "      <td>1649108492880</td>\n",
       "      <td>True</td>\n",
       "      <td>True</td>\n",
       "      <td>98.169384</td>\n",
       "    </tr>\n",
       "    <tr>\n",
       "      <th>42</th>\n",
       "      <td>60</td>\n",
       "      <td>1649108575879</td>\n",
       "      <td>True</td>\n",
       "      <td>True</td>\n",
       "      <td>98.452434</td>\n",
       "    </tr>\n",
       "  </tbody>\n",
       "</table>\n",
       "</div>"
      ],
      "text/plain": [
       "   HRvalue             ts  HRvalid  SpO2valid           SpO2value\n",
       "0      115  1649108316694     True       True           96.727986\n",
       "1      115  1649108451425     True       True           99.135144\n",
       "2       65  1649108161222     True      False               '-999\n",
       "3       65  1649108410058     True       True   95.70606599999999\n",
       "4      166  1649108244071     True       True            99.24465\n",
       "5      100  1649108347984     True      False               '-999\n",
       "6      100  1649108389374     True       True           98.500104\n",
       "7      100  1649108482492     True       True           98.794776\n",
       "8      100  1649108503221     True       True           96.727986\n",
       "9      100  1649108524051     True      False               '-999\n",
       "10     100  1649108565525     True       True              99.657\n",
       "11     150  1649108368672     True       True           99.712434\n",
       "12     150  1649108513549     True      False               '-999\n",
       "13      93  1649108544735     True       True  0.2865359999999697\n",
       "14   '-999  1649108150861    False      False               '-999\n",
       "15     136  1649108181923     True       True           99.796266\n",
       "16     136  1649108555183     True       True           98.169384\n",
       "17      46  1649108202702     True       True            99.54225\n",
       "18      71  1649108264907     True       True            96.23505\n",
       "19     214  1649108223379     True      False               '-999\n",
       "20      88  1649108275252     True      False               '-999\n",
       "21      88  1649108358316     True       True            96.23505\n",
       "22      88  1649108420405     True       True           96.960936\n",
       "23      88  1649108472120     True       True            96.23505\n",
       "24      88  1649108534394     True      False               '-999\n",
       "25     125  1649108233725     True       True           98.752554\n",
       "26     125  1649108306318     True       True           99.135144\n",
       "27     125  1649108327029     True       True            96.23505\n",
       "28     125  1649108337641     True       True           93.124776\n",
       "29     125  1649108461775     True       True           99.727416\n",
       "30      78  1649108213055     True       True           98.651946\n",
       "31      78  1649108254434     True       True           96.727986\n",
       "32      78  1649108430728     True       True           99.275976\n",
       "33      78  1649108441079     True       True             97.3998\n",
       "34     107  1649108140490     True       True           77.996466\n",
       "35     107  1649108171567     True      False               '-999\n",
       "36     107  1649108192268     True       True              98.607\n",
       "37     107  1649108295971     True       True           95.975064\n",
       "38     107  1649108379027     True      False               '-999\n",
       "39     107  1649108399714     True       True           97.802616\n",
       "40      68  1649108285600     True       True           97.605714\n",
       "41      83  1649108492880     True       True           98.169384\n",
       "42      60  1649108575879     True       True           98.452434"
      ]
     },
     "execution_count": 1,
     "metadata": {},
     "output_type": "execute_result"
    }
   ],
   "source": [
    "import pandas as pd\n",
    "import numpy as np\n",
    "import matplotlib.pyplot as plt\n",
    "\n",
    "hrO2 = pd.read_csv(\"results.csv\")\n",
    "hrO2"
   ]
  },
  {
   "cell_type": "code",
   "execution_count": 135,
   "id": "b5309e85",
   "metadata": {},
   "outputs": [
    {
     "name": "stdout",
     "output_type": "stream",
     "text": [
      "<class 'pandas.core.frame.DataFrame'>\n",
      "RangeIndex: 43 entries, 0 to 42\n",
      "Data columns (total 5 columns):\n",
      " #   Column     Non-Null Count  Dtype \n",
      "---  ------     --------------  ----- \n",
      " 0   HRvalue    43 non-null     object\n",
      " 1   ts         43 non-null     int64 \n",
      " 2   HRvalid    43 non-null     bool  \n",
      " 3   SpO2valid  43 non-null     bool  \n",
      " 4   SpO2value  43 non-null     object\n",
      "dtypes: bool(2), int64(1), object(2)\n",
      "memory usage: 1.2+ KB\n"
     ]
    }
   ],
   "source": [
    "hrO2.info()"
   ]
  },
  {
   "cell_type": "markdown",
   "id": "f8b6e96d",
   "metadata": {},
   "source": [
    "## Step 1: Find out non-valid data in the data set"
   ]
  },
  {
   "cell_type": "code",
   "execution_count": 32,
   "id": "6dadeaf2",
   "metadata": {},
   "outputs": [
    {
     "name": "stdout",
     "output_type": "stream",
     "text": [
      "There are 42 valid data\n",
      "There are 33 valid data\n"
     ]
    }
   ],
   "source": [
    "# Even though hr.info says every column is \"non-null\" but \n",
    "# the HRValue and SpO2value columns have some non-numbers.\n",
    "# The data type for both are \"object\"!!\n",
    "\n",
    "# How many valid data in both columns? \n",
    "# We can check the HRvalid and SpO2valid columns.\n",
    "\n",
    "print ('There are',hrO2['HRvalid'].sum(), 'valid data')\n",
    "print ('There are',hrO2['SpO2valid'].sum(), 'valid data')"
   ]
  },
  {
   "cell_type": "markdown",
   "id": "00f78d17",
   "metadata": {},
   "source": [
    "### Use String method str.isnumeric() to find non-numerical values. However, it does not work all the time....."
   ]
  },
  {
   "cell_type": "code",
   "execution_count": 33,
   "id": "d4612ee6",
   "metadata": {},
   "outputs": [
    {
     "data": {
      "text/plain": [
       "42"
      ]
     },
     "execution_count": 33,
     "metadata": {},
     "output_type": "execute_result"
    }
   ],
   "source": [
    "# Without the HRvalid and SpO2valid columns, we need to check the\n",
    "# data directly using pd.Series.str.isnumeric() \n",
    "\n",
    "hrO2['HRvalue'].str.isnumeric().sum()"
   ]
  },
  {
   "cell_type": "code",
   "execution_count": 34,
   "id": "9cba15e5",
   "metadata": {},
   "outputs": [
    {
     "data": {
      "text/plain": [
       "0"
      ]
     },
     "execution_count": 34,
     "metadata": {},
     "output_type": "execute_result"
    }
   ],
   "source": [
    "# However, this does not work with SpO2value. It appears the entire column\n",
    "# data are cast as a Python object\n",
    "hrO2['SpO2value'].str.isnumeric().sum()"
   ]
  },
  {
   "cell_type": "markdown",
   "id": "ebf5c6a3",
   "metadata": {},
   "source": [
    "### Use the pd.to_numeric() method with an option errors='coerce' to cast the column to float64 and set the non-numerical values to NaN"
   ]
  },
  {
   "cell_type": "code",
   "execution_count": 32,
   "id": "a1201344",
   "metadata": {},
   "outputs": [
    {
     "data": {
      "text/plain": [
       "0     115.0\n",
       "1     115.0\n",
       "2      65.0\n",
       "3      65.0\n",
       "4     166.0\n",
       "5     100.0\n",
       "6     100.0\n",
       "7     100.0\n",
       "8     100.0\n",
       "9     100.0\n",
       "10    100.0\n",
       "11    150.0\n",
       "12    150.0\n",
       "13     93.0\n",
       "14      NaN\n",
       "15    136.0\n",
       "16    136.0\n",
       "17     46.0\n",
       "18     71.0\n",
       "19    214.0\n",
       "20     88.0\n",
       "21     88.0\n",
       "22     88.0\n",
       "23     88.0\n",
       "24     88.0\n",
       "25    125.0\n",
       "26    125.0\n",
       "27    125.0\n",
       "28    125.0\n",
       "29    125.0\n",
       "30     78.0\n",
       "31     78.0\n",
       "32     78.0\n",
       "33     78.0\n",
       "34    107.0\n",
       "35    107.0\n",
       "36    107.0\n",
       "37    107.0\n",
       "38    107.0\n",
       "39    107.0\n",
       "40     68.0\n",
       "41     83.0\n",
       "42     60.0\n",
       "Name: HRvalue, dtype: float64"
      ]
     },
     "execution_count": 32,
     "metadata": {},
     "output_type": "execute_result"
    }
   ],
   "source": [
    "hr_1 = pd.to_numeric(hrO2['HRvalue'], errors='coerce')\n",
    "hr_1"
   ]
  },
  {
   "cell_type": "code",
   "execution_count": 39,
   "id": "e9556d43",
   "metadata": {},
   "outputs": [
    {
     "data": {
      "text/plain": [
       "0     115.0\n",
       "1     115.0\n",
       "2      65.0\n",
       "3      65.0\n",
       "4     166.0\n",
       "5     100.0\n",
       "6     100.0\n",
       "7     100.0\n",
       "8     100.0\n",
       "9     100.0\n",
       "10    100.0\n",
       "11    150.0\n",
       "12    150.0\n",
       "13     93.0\n",
       "15    136.0\n",
       "16    136.0\n",
       "17     46.0\n",
       "18     71.0\n",
       "19    214.0\n",
       "20     88.0\n",
       "21     88.0\n",
       "22     88.0\n",
       "23     88.0\n",
       "24     88.0\n",
       "25    125.0\n",
       "26    125.0\n",
       "27    125.0\n",
       "28    125.0\n",
       "29    125.0\n",
       "30     78.0\n",
       "31     78.0\n",
       "32     78.0\n",
       "33     78.0\n",
       "34    107.0\n",
       "35    107.0\n",
       "36    107.0\n",
       "37    107.0\n",
       "38    107.0\n",
       "39    107.0\n",
       "40     68.0\n",
       "41     83.0\n",
       "42     60.0\n",
       "Name: HRvalue, dtype: float64"
      ]
     },
     "execution_count": 39,
     "metadata": {},
     "output_type": "execute_result"
    }
   ],
   "source": [
    "# The row index with NaN is removed\n",
    "hr_1.dropna(inplace=True)      # inplace=True will change hr_1 \n",
    "hr_1"
   ]
  },
  {
   "cell_type": "code",
   "execution_count": 41,
   "id": "ac32e2f5",
   "metadata": {},
   "outputs": [
    {
     "data": {
      "image/png": "[encoded data removed]",
      "text/plain": [
       "<Figure size 432x288 with 1 Axes>"
      ]
     },
     "metadata": {
      "needs_background": "light"
     },
     "output_type": "display_data"
    }
   ],
   "source": [
    "# Plot the bar chart\n",
    "plt.bar(hr_1.index, hr_1)\n",
    "plt.show()"
   ]
  },
  {
   "cell_type": "markdown",
   "id": "58dd0183",
   "metadata": {},
   "source": [
    "### It looks good, but, did you notice there is one missing data at index 14? We need to reset the index to remove the missing indices"
   ]
  },
  {
   "cell_type": "code",
   "execution_count": 47,
   "id": "d147d8a3",
   "metadata": {},
   "outputs": [
    {
     "data": {
      "image/png": "[encoded data removed]",
      "text/plain": [
       "<Figure size 432x288 with 1 Axes>"
      ]
     },
     "metadata": {
      "needs_background": "light"
     },
     "output_type": "display_data"
    }
   ],
   "source": [
    "hr_1.reset_index(drop=True, inplace=True)    # drop=True will remove the old index\n",
    "hr_1\n",
    "plt.bar(hr_1.index, hr_1)\n",
    "plt.show()"
   ]
  },
  {
   "cell_type": "code",
   "execution_count": 65,
   "id": "ef47ce10",
   "metadata": {},
   "outputs": [
    {
     "data": {
      "text/plain": [
       "0     96.727986\n",
       "1     99.135144\n",
       "2           NaN\n",
       "3     95.706066\n",
       "4     99.244650\n",
       "5           NaN\n",
       "6     98.500104\n",
       "7     98.794776\n",
       "8     96.727986\n",
       "9           NaN\n",
       "10    99.657000\n",
       "11    99.712434\n",
       "12          NaN\n",
       "13     0.286536\n",
       "14          NaN\n",
       "15    99.796266\n",
       "16    98.169384\n",
       "17    99.542250\n",
       "18    96.235050\n",
       "19          NaN\n",
       "20          NaN\n",
       "21    96.235050\n",
       "22    96.960936\n",
       "23    96.235050\n",
       "24          NaN\n",
       "25    98.752554\n",
       "26    99.135144\n",
       "27    96.235050\n",
       "28    93.124776\n",
       "29    99.727416\n",
       "30    98.651946\n",
       "31    96.727986\n",
       "32    99.275976\n",
       "33    97.399800\n",
       "34    77.996466\n",
       "35          NaN\n",
       "36    98.607000\n",
       "37    95.975064\n",
       "38          NaN\n",
       "39    97.802616\n",
       "40    97.605714\n",
       "41    98.169384\n",
       "42    98.452434\n",
       "Name: SpO2value, dtype: float64"
      ]
     },
     "execution_count": 65,
     "metadata": {},
     "output_type": "execute_result"
    }
   ],
   "source": [
    "O2_1 = pd.to_numeric(hrO2['SpO2value'], errors='coerce')\n",
    "O2_1"
   ]
  },
  {
   "cell_type": "code",
   "execution_count": 72,
   "id": "ffe356f5",
   "metadata": {},
   "outputs": [
    {
     "data": {
      "text/plain": [
       "0     96.727986\n",
       "1     99.135144\n",
       "2     95.706066\n",
       "3     99.244650\n",
       "4     98.500104\n",
       "5     98.794776\n",
       "6     96.727986\n",
       "7     99.657000\n",
       "8     99.712434\n",
       "9      0.286536\n",
       "10    99.796266\n",
       "11    98.169384\n",
       "12    99.542250\n",
       "13    96.235050\n",
       "14    96.235050\n",
       "15    96.960936\n",
       "16    96.235050\n",
       "17    98.752554\n",
       "18    99.135144\n",
       "19    96.235050\n",
       "20    93.124776\n",
       "21    99.727416\n",
       "22    98.651946\n",
       "23    96.727986\n",
       "24    99.275976\n",
       "25    97.399800\n",
       "26    77.996466\n",
       "27    98.607000\n",
       "28    95.975064\n",
       "29    97.802616\n",
       "30    97.605714\n",
       "31    98.169384\n",
       "32    98.452434\n",
       "Name: SpO2value, dtype: float64"
      ]
     },
     "execution_count": 72,
     "metadata": {},
     "output_type": "execute_result"
    }
   ],
   "source": [
    "O2_1.dropna(inplace=True)\n",
    "O2_1.reset_index(drop=True, inplace=True)\n",
    "O2_1"
   ]
  },
  {
   "cell_type": "code",
   "execution_count": 73,
   "id": "a42ce1b5",
   "metadata": {},
   "outputs": [
    {
     "data": {
      "image/png": "[encoded data removed]",
      "text/plain": [
       "<Figure size 432x288 with 1 Axes>"
      ]
     },
     "metadata": {
      "needs_background": "light"
     },
     "output_type": "display_data"
    }
   ],
   "source": [
    "plt.bar(O2_1.index, O2_1)\n",
    "plt.show()"
   ]
  },
  {
   "cell_type": "markdown",
   "id": "d2b2d766",
   "metadata": {},
   "source": [
    "## Step 2: Find the outliers: data seem to be out of normal range of the variable"
   ]
  },
  {
   "cell_type": "code",
   "execution_count": 75,
   "id": "390ea401",
   "metadata": {},
   "outputs": [
    {
     "data": {
      "text/plain": [
       "count     42.000000\n",
       "mean     103.619048\n",
       "std       31.269055\n",
       "min       46.000000\n",
       "25%       84.250000\n",
       "50%      100.000000\n",
       "75%      122.500000\n",
       "max      214.000000\n",
       "Name: HRvalue, dtype: float64"
      ]
     },
     "execution_count": 75,
     "metadata": {},
     "output_type": "execute_result"
    }
   ],
   "source": [
    "# Examining the values of HRvalue (hr_1)\n",
    "hr_1.describe()"
   ]
  },
  {
   "cell_type": "code",
   "execution_count": 78,
   "id": "4f218f95",
   "metadata": {},
   "outputs": [
    {
     "data": {
      "text/plain": [
       "100.0    6\n",
       "107.0    6\n",
       "125.0    5\n",
       "88.0     5\n",
       "78.0     4\n",
       "136.0    2\n",
       "65.0     2\n",
       "115.0    2\n",
       "150.0    2\n",
       "166.0    1\n",
       "214.0    1\n",
       "71.0     1\n",
       "46.0     1\n",
       "60.0     1\n",
       "68.0     1\n",
       "93.0     1\n",
       "83.0     1\n",
       "Name: HRvalue, dtype: int64"
      ]
     },
     "execution_count": 78,
     "metadata": {},
     "output_type": "execute_result"
    }
   ],
   "source": [
    "hr_1.value_counts()"
   ]
  },
  {
   "cell_type": "code",
   "execution_count": 79,
   "id": "a2c9ccd5",
   "metadata": {},
   "outputs": [
    {
     "data": {
      "text/plain": [
       "count    33.000000\n",
       "mean     94.282000\n",
       "std      17.290252\n",
       "min       0.286536\n",
       "25%      96.235050\n",
       "50%      98.169384\n",
       "75%      99.135144\n",
       "max      99.796266\n",
       "Name: SpO2value, dtype: float64"
      ]
     },
     "execution_count": 79,
     "metadata": {},
     "output_type": "execute_result"
    }
   ],
   "source": [
    "O2_1.describe()"
   ]
  },
  {
   "attachments": {
    "boxplot.png": {
     "image/png": "[encoded data removed]"
    }
   },
   "cell_type": "markdown",
   "id": "103ec3fb",
   "metadata": {},
   "source": [
    "### A powerful visual is to use boxplot\n",
    "\n",
    "![boxplot.png](attachment:boxplot.png)"
   ]
  },
  {
   "cell_type": "code",
   "execution_count": 102,
   "id": "aedc1adc",
   "metadata": {},
   "outputs": [
    {
     "data": {
      "image/png": "[encoded data removed]",
      "text/plain": [
       "<Figure size 432x288 with 1 Axes>"
      ]
     },
     "metadata": {
      "needs_background": "light"
     },
     "output_type": "display_data"
    }
   ],
   "source": [
    "plt.boxplot(hr_1)\n",
    "plt.xlabel('Heart Rate')\n",
    "plt.show()"
   ]
  },
  {
   "cell_type": "markdown",
   "id": "2288062e",
   "metadata": {},
   "source": [
    "### We can use Seaborn.boxplot as well"
   ]
  },
  {
   "cell_type": "code",
   "execution_count": 107,
   "id": "5e321c75",
   "metadata": {},
   "outputs": [
    {
     "data": {
      "image/png": "[encoded data removed]",
      "text/plain": [
       "<Figure size 432x288 with 1 Axes>"
      ]
     },
     "metadata": {
      "needs_background": "light"
     },
     "output_type": "display_data"
    }
   ],
   "source": [
    "import seaborn as sns\n",
    "\n",
    "sns.boxplot(y=hr_1)  ## you can try x=hr_1 and see the difference\n",
    "plt.show()"
   ]
  },
  {
   "cell_type": "markdown",
   "id": "0e03369f",
   "metadata": {},
   "source": [
    "### Historgram is another good chart to visualize the data distribution"
   ]
  },
  {
   "cell_type": "code",
   "execution_count": 119,
   "id": "28268623",
   "metadata": {},
   "outputs": [
    {
     "data": {
      "image/png": "[encoded data removed]",
      "text/plain": [
       "<Figure size 432x288 with 1 Axes>"
      ]
     },
     "metadata": {
      "needs_background": "light"
     },
     "output_type": "display_data"
    }
   ],
   "source": [
    "plt.hist(hr_1)\n",
    "plt.show()"
   ]
  },
  {
   "cell_type": "markdown",
   "id": "40d5770f",
   "metadata": {},
   "source": [
    "### Heart rate over 150 while sitting is obviously unreal. Dropping from 100 to 50 in a short period of time does not make sense, either. \n",
    "### There are different ways to deal with outliers. \n",
    "### a. Remove it. or b. Replace it some other reasonable value"
   ]
  },
  {
   "cell_type": "code",
   "execution_count": 145,
   "id": "53b46a24",
   "metadata": {},
   "outputs": [
    {
     "data": {
      "image/png": "[encoded data removed]",
      "text/plain": [
       "<Figure size 432x288 with 1 Axes>"
      ]
     },
     "metadata": {
      "needs_background": "light"
     },
     "output_type": "display_data"
    }
   ],
   "source": [
    "# For discussion purpose,let's consider HR > 150 and HR < 50 as outliers\n",
    "# a. Remove the outliers\n",
    "\n",
    "hr_2 = hr_1[(hr_1 <= 150) & (hr_1 >=50)]\n",
    "sns.boxplot(y=hr_2)\n",
    "plt.show()"
   ]
  },
  {
   "cell_type": "code",
   "execution_count": 162,
   "id": "b4683292",
   "metadata": {},
   "outputs": [
    {
     "name": "stdout",
     "output_type": "stream",
     "text": [
      "100.0\n"
     ]
    },
    {
     "data": {
      "text/plain": [
       "count     42.000000\n",
       "mean     102.047619\n",
       "std       21.793882\n",
       "min       60.000000\n",
       "25%       94.750000\n",
       "50%      100.000000\n",
       "75%      113.000000\n",
       "max      150.000000\n",
       "Name: HRvalue, dtype: float64"
      ]
     },
     "execution_count": 162,
     "metadata": {},
     "output_type": "execute_result"
    }
   ],
   "source": [
    "# b. Replace the values with, say, the median value of the dataset\n",
    "\n",
    "median = hr_1.median()\n",
    "hr_1[hr_1 > 150] = median\n",
    "hr_1[hr_1 < 50] = median\n",
    "hr_1.describe()"
   ]
  },
  {
   "cell_type": "code",
   "execution_count": 159,
   "id": "3fb6eeb3",
   "metadata": {},
   "outputs": [
    {
     "data": {
      "text/plain": [
       "<AxesSubplot:ylabel='HRvalue'>"
      ]
     },
     "execution_count": 159,
     "metadata": {},
     "output_type": "execute_result"
    },
    {
     "data": {
      "image/png": "[encoded data removed]",
      "text/plain": [
       "<Figure size 432x288 with 1 Axes>"
      ]
     },
     "metadata": {
      "needs_background": "light"
     },
     "output_type": "display_data"
    }
   ],
   "source": [
    "sns.boxplot(y=hr_1)"
   ]
  },
  {
   "cell_type": "code",
   "execution_count": 164,
   "id": "8aca08d4",
   "metadata": {},
   "outputs": [
    {
     "data": {
      "text/plain": [
       "count    33.000000\n",
       "mean     94.282000\n",
       "std      17.290252\n",
       "min       0.286536\n",
       "25%      96.235050\n",
       "50%      98.169384\n",
       "75%      99.135144\n",
       "max      99.796266\n",
       "Name: SpO2value, dtype: float64"
      ]
     },
     "execution_count": 164,
     "metadata": {},
     "output_type": "execute_result"
    }
   ],
   "source": [
    "O2_1.describe()"
   ]
  },
  {
   "cell_type": "code",
   "execution_count": 167,
   "id": "7654aa30",
   "metadata": {},
   "outputs": [
    {
     "data": {
      "image/png": "[encoded data removed]",
      "text/plain": [
       "<Figure size 432x288 with 1 Axes>"
      ]
     },
     "metadata": {
      "needs_background": "light"
     },
     "output_type": "display_data"
    }
   ],
   "source": [
    "sns.boxplot(y=O2_1)\n",
    "plt.show()"
   ]
  },
  {
   "cell_type": "code",
   "execution_count": 169,
   "id": "50f84c3b",
   "metadata": {},
   "outputs": [
    {
     "data": {
      "image/png": "[encoded data removed]",
      "text/plain": [
       "<Figure size 432x288 with 1 Axes>"
      ]
     },
     "metadata": {
      "needs_background": "light"
     },
     "output_type": "display_data"
    }
   ],
   "source": [
    "plt.hist(O2_1)\n",
    "plt.show()"
   ]
  },
  {
   "cell_type": "code",
   "execution_count": 179,
   "id": "2f58cee3",
   "metadata": {},
   "outputs": [
    {
     "data": {
      "image/png": "[encoded data removed]",
      "text/plain": [
       "<Figure size 432x288 with 1 Axes>"
      ]
     },
     "metadata": {
      "needs_background": "light"
     },
     "output_type": "display_data"
    }
   ],
   "source": [
    "# Remove O2 value less than 0.80\n",
    "O2_2 = O2_1[O2_1 > 80]\n",
    "sns.boxplot(y=O2_2)\n",
    "plt.show()"
   ]
  },
  {
   "cell_type": "code",
   "execution_count": 182,
   "id": "1f9f3312",
   "metadata": {},
   "outputs": [
    {
     "data": {
      "image/png": "[encoded data removed]",
      "text/plain": [
       "<Figure size 432x288 with 1 Axes>"
      ]
     },
     "metadata": {
      "needs_background": "light"
     },
     "output_type": "display_data"
    }
   ],
   "source": [
    "plt.hist(O2_2, bins=10)\n",
    "plt.show()"
   ]
  },
  {
   "cell_type": "code",
   "execution_count": null,
   "id": "b9038e82",
   "metadata": {},
   "outputs": [],
   "source": []
  }
 ],
 "metadata": {
  "kernelspec": {
   "display_name": "Python 3 (ipykernel)",
   "language": "python",
   "name": "python3"
  },
  "language_info": {
   "codemirror_mode": {
    "name": "ipython",
    "version": 3
   },
   "file_extension": ".py",
   "mimetype": "text/x-python",
   "name": "python",
   "nbconvert_exporter": "python",
   "pygments_lexer": "ipython3",
   "version": "3.9.7"
  }
 },
 "nbformat": 4,
 "nbformat_minor": 5
}
