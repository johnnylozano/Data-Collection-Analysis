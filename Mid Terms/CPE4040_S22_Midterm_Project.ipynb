{
 "cells": [
  {
   "cell_type": "markdown",
   "metadata": {},
   "source": [
    "<center><h2> CPE 4040 Spring 2022: Midterm Exam 2 </h2></center>\n",
    "<center><h2>Johnny Lozano</h2></center>"
   ]
  },
  {
   "cell_type": "markdown",
   "metadata": {},
   "source": [
    "### This is a two-part exam:\n",
    " * Part 1: Problem solving\n",
    " * Part 2: Semi-guided project for exploratory data analysis\n",
    "\n",
    "### General guidelines:\n",
    " * Do your coding in a clean and logical manner.\n",
    " * Make comments on your codes. Make insightful observations after the analysis.\n",
    " * This is an individual assignment.\n",
    " * No plagiarism: you are encouraged to do reseach, however, do your own work. Do not copy-and-paste other people's work.    \n",
    "\n",
    "### Submission:\n",
    " * Submit this notebook file and the pdf file - remember to add your name in in the filenames.\n",
    " * Deadline: 11:59 pm, 4/15 (Friday)"
   ]
  },
  {
   "cell_type": "markdown",
   "metadata": {},
   "source": [
    "<h3> Import Python Tool Modules First</h3>"
   ]
  },
  {
   "cell_type": "code",
   "execution_count": 1,
   "metadata": {},
   "outputs": [],
   "source": [
    "import numpy as np\n",
    "import pandas as pd\n",
    "import matplotlib.pyplot as plt"
   ]
  },
  {
   "cell_type": "markdown",
   "metadata": {},
   "source": [
    "<h2>Part 1: Baby Name Dataset Analysis (40 Points)</h2>\n",
    "\n",
    "In this dataset, baby names in the US from 2004 to 2014 are tablulated by gender, year, and State.\n",
    "\n",
    "### First step: import the dataset (in csv format) from this [address](https://raw.githubusercontent.com/guipsamora/pandas_exercises/master/06_Stats/US_Baby_Names/US_Baby_Names_right.csv). \n",
    "\n",
    "<h3>Q1. Read the dataset and assign it to a dataframe called baby_names. Display the first 10 rows of the dataset.</h3>"
   ]
  },
  {
   "cell_type": "code",
   "execution_count": 2,
   "metadata": {},
   "outputs": [
    {
     "data": {
      "text/html": [
       "<div>\n",
       "<style scoped>\n",
       "    .dataframe tbody tr th:only-of-type {\n",
       "        vertical-align: middle;\n",
       "    }\n",
       "\n",
       "    .dataframe tbody tr th {\n",
       "        vertical-align: top;\n",
       "    }\n",
       "\n",
       "    .dataframe thead th {\n",
       "        text-align: right;\n",
       "    }\n",
       "</style>\n",
       "<table border=\"1\" class=\"dataframe\">\n",
       "  <thead>\n",
       "    <tr style=\"text-align: right;\">\n",
       "      <th></th>\n",
       "      <th>Unnamed: 0</th>\n",
       "      <th>Id</th>\n",
       "      <th>Name</th>\n",
       "      <th>Year</th>\n",
       "      <th>Gender</th>\n",
       "      <th>State</th>\n",
       "      <th>Count</th>\n",
       "    </tr>\n",
       "  </thead>\n",
       "  <tbody>\n",
       "    <tr>\n",
       "      <th>0</th>\n",
       "      <td>11349</td>\n",
       "      <td>11350</td>\n",
       "      <td>Emma</td>\n",
       "      <td>2004</td>\n",
       "      <td>F</td>\n",
       "      <td>AK</td>\n",
       "      <td>62</td>\n",
       "    </tr>\n",
       "    <tr>\n",
       "      <th>1</th>\n",
       "      <td>11350</td>\n",
       "      <td>11351</td>\n",
       "      <td>Madison</td>\n",
       "      <td>2004</td>\n",
       "      <td>F</td>\n",
       "      <td>AK</td>\n",
       "      <td>48</td>\n",
       "    </tr>\n",
       "    <tr>\n",
       "      <th>2</th>\n",
       "      <td>11351</td>\n",
       "      <td>11352</td>\n",
       "      <td>Hannah</td>\n",
       "      <td>2004</td>\n",
       "      <td>F</td>\n",
       "      <td>AK</td>\n",
       "      <td>46</td>\n",
       "    </tr>\n",
       "    <tr>\n",
       "      <th>3</th>\n",
       "      <td>11352</td>\n",
       "      <td>11353</td>\n",
       "      <td>Grace</td>\n",
       "      <td>2004</td>\n",
       "      <td>F</td>\n",
       "      <td>AK</td>\n",
       "      <td>44</td>\n",
       "    </tr>\n",
       "    <tr>\n",
       "      <th>4</th>\n",
       "      <td>11353</td>\n",
       "      <td>11354</td>\n",
       "      <td>Emily</td>\n",
       "      <td>2004</td>\n",
       "      <td>F</td>\n",
       "      <td>AK</td>\n",
       "      <td>41</td>\n",
       "    </tr>\n",
       "    <tr>\n",
       "      <th>5</th>\n",
       "      <td>11354</td>\n",
       "      <td>11355</td>\n",
       "      <td>Abigail</td>\n",
       "      <td>2004</td>\n",
       "      <td>F</td>\n",
       "      <td>AK</td>\n",
       "      <td>37</td>\n",
       "    </tr>\n",
       "    <tr>\n",
       "      <th>6</th>\n",
       "      <td>11355</td>\n",
       "      <td>11356</td>\n",
       "      <td>Olivia</td>\n",
       "      <td>2004</td>\n",
       "      <td>F</td>\n",
       "      <td>AK</td>\n",
       "      <td>33</td>\n",
       "    </tr>\n",
       "    <tr>\n",
       "      <th>7</th>\n",
       "      <td>11356</td>\n",
       "      <td>11357</td>\n",
       "      <td>Isabella</td>\n",
       "      <td>2004</td>\n",
       "      <td>F</td>\n",
       "      <td>AK</td>\n",
       "      <td>30</td>\n",
       "    </tr>\n",
       "    <tr>\n",
       "      <th>8</th>\n",
       "      <td>11357</td>\n",
       "      <td>11358</td>\n",
       "      <td>Alyssa</td>\n",
       "      <td>2004</td>\n",
       "      <td>F</td>\n",
       "      <td>AK</td>\n",
       "      <td>29</td>\n",
       "    </tr>\n",
       "    <tr>\n",
       "      <th>9</th>\n",
       "      <td>11358</td>\n",
       "      <td>11359</td>\n",
       "      <td>Sophia</td>\n",
       "      <td>2004</td>\n",
       "      <td>F</td>\n",
       "      <td>AK</td>\n",
       "      <td>28</td>\n",
       "    </tr>\n",
       "  </tbody>\n",
       "</table>\n",
       "</div>"
      ],
      "text/plain": [
       "   Unnamed: 0     Id      Name  Year Gender State  Count\n",
       "0       11349  11350      Emma  2004      F    AK     62\n",
       "1       11350  11351   Madison  2004      F    AK     48\n",
       "2       11351  11352    Hannah  2004      F    AK     46\n",
       "3       11352  11353     Grace  2004      F    AK     44\n",
       "4       11353  11354     Emily  2004      F    AK     41\n",
       "5       11354  11355   Abigail  2004      F    AK     37\n",
       "6       11355  11356    Olivia  2004      F    AK     33\n",
       "7       11356  11357  Isabella  2004      F    AK     30\n",
       "8       11357  11358    Alyssa  2004      F    AK     29\n",
       "9       11358  11359    Sophia  2004      F    AK     28"
      ]
     },
     "execution_count": 2,
     "metadata": {},
     "output_type": "execute_result"
    }
   ],
   "source": [
    "baby_names = pd.read_csv('https://raw.githubusercontent.com/guipsamora/pandas_exercises/master/06_Stats/US_Baby_Names/US_Baby_Names_right.csv')\n",
    "\n",
    "baby_names.head(10)"
   ]
  },
  {
   "cell_type": "markdown",
   "metadata": {},
   "source": [
    "<h3>Q2. The first two columns \"Unnamed: 0\" and \"Id\" do not seem useful. Please remove them and display the first 5 rows of the new dataframe.</h3> "
   ]
  },
  {
   "cell_type": "code",
   "execution_count": 3,
   "metadata": {},
   "outputs": [
    {
     "data": {
      "text/html": [
       "<div>\n",
       "<style scoped>\n",
       "    .dataframe tbody tr th:only-of-type {\n",
       "        vertical-align: middle;\n",
       "    }\n",
       "\n",
       "    .dataframe tbody tr th {\n",
       "        vertical-align: top;\n",
       "    }\n",
       "\n",
       "    .dataframe thead th {\n",
       "        text-align: right;\n",
       "    }\n",
       "</style>\n",
       "<table border=\"1\" class=\"dataframe\">\n",
       "  <thead>\n",
       "    <tr style=\"text-align: right;\">\n",
       "      <th></th>\n",
       "      <th>Name</th>\n",
       "      <th>Year</th>\n",
       "      <th>Gender</th>\n",
       "      <th>State</th>\n",
       "      <th>Count</th>\n",
       "    </tr>\n",
       "  </thead>\n",
       "  <tbody>\n",
       "    <tr>\n",
       "      <th>0</th>\n",
       "      <td>Emma</td>\n",
       "      <td>2004</td>\n",
       "      <td>F</td>\n",
       "      <td>AK</td>\n",
       "      <td>62</td>\n",
       "    </tr>\n",
       "    <tr>\n",
       "      <th>1</th>\n",
       "      <td>Madison</td>\n",
       "      <td>2004</td>\n",
       "      <td>F</td>\n",
       "      <td>AK</td>\n",
       "      <td>48</td>\n",
       "    </tr>\n",
       "    <tr>\n",
       "      <th>2</th>\n",
       "      <td>Hannah</td>\n",
       "      <td>2004</td>\n",
       "      <td>F</td>\n",
       "      <td>AK</td>\n",
       "      <td>46</td>\n",
       "    </tr>\n",
       "    <tr>\n",
       "      <th>3</th>\n",
       "      <td>Grace</td>\n",
       "      <td>2004</td>\n",
       "      <td>F</td>\n",
       "      <td>AK</td>\n",
       "      <td>44</td>\n",
       "    </tr>\n",
       "    <tr>\n",
       "      <th>4</th>\n",
       "      <td>Emily</td>\n",
       "      <td>2004</td>\n",
       "      <td>F</td>\n",
       "      <td>AK</td>\n",
       "      <td>41</td>\n",
       "    </tr>\n",
       "  </tbody>\n",
       "</table>\n",
       "</div>"
      ],
      "text/plain": [
       "      Name  Year Gender State  Count\n",
       "0     Emma  2004      F    AK     62\n",
       "1  Madison  2004      F    AK     48\n",
       "2   Hannah  2004      F    AK     46\n",
       "3    Grace  2004      F    AK     44\n",
       "4    Emily  2004      F    AK     41"
      ]
     },
     "execution_count": 3,
     "metadata": {},
     "output_type": "execute_result"
    }
   ],
   "source": [
    "# deletes Unnamed: 0\n",
    "del baby_names['Unnamed: 0']\n",
    "\n",
    "# delete Id\n",
    "baby_names.drop('Id', axis='columns', inplace=True)\n",
    "#del baby_names['Id']\n",
    "\n",
    "baby_names.head()"
   ]
  },
  {
   "cell_type": "markdown",
   "metadata": {},
   "source": [
    "<h3>Q3. According to this dataset, how many babies were born each year from 2004 to 2014? Show the results and plot a vertical bar chart for the new-born numbers from 2004 to 2014.</h3>"
   ]
  },
  {
   "cell_type": "code",
   "execution_count": 4,
   "metadata": {},
   "outputs": [
    {
     "name": "stdout",
     "output_type": "stream",
     "text": [
      "Year\n",
      "2004    3293984\n",
      "2005    3305315\n",
      "2006    3387737\n",
      "2007    3412417\n",
      "2008    3340318\n",
      "2009    3232116\n",
      "2010    3116548\n",
      "2011    3079145\n",
      "2012    3073858\n",
      "2013    3066443\n",
      "2014    3113611\n",
      "Name: Count, dtype: int64\n"
     ]
    },
    {
     "data": {
      "image/png": "[encoded data removed]",
      "text/plain": [
       "<Figure size 720x432 with 1 Axes>"
      ]
     },
     "metadata": {
      "needs_background": "light"
     },
     "output_type": "display_data"
    }
   ],
   "source": [
    "# 1. Apply groupby('Year')\n",
    "# 2. Extract the \"Count\" column data\n",
    "# 3. Aggregate with sum() function\n",
    "\n",
    "year_count = baby_names.groupby('Year').Count.sum()\n",
    "print (year_count)\n",
    "\n",
    "# Observe that 2004 to 2011 are the first 8 entries in year_count.\n",
    "#year_count[:7]\n",
    "\n",
    "years = year_count.index\n",
    "#print (years)\n",
    "\n",
    "plt.figure(figsize=(10,6))\n",
    "width = 0.5\n",
    "plt.bar(years, year_count, color='green', width=0.5)\n",
    "\n",
    "plt.title('Babies born in the US between 2004 to 2011')\n",
    "plt.show()"
   ]
  },
  {
   "cell_type": "markdown",
   "metadata": {},
   "source": [
    "<h3>Q4. How many boys (M) and girls (F) were born each year from 2004 to 2014? Show the results and plot a stacked bar chart, one for boys and one for girls. Please add a legend. </h3>"
   ]
  },
  {
   "cell_type": "code",
   "execution_count": 5,
   "metadata": {},
   "outputs": [
    {
     "name": "stdout",
     "output_type": "stream",
     "text": [
      "MultiIndex([(2004, 'F'),\n",
      "            (2004, 'M'),\n",
      "            (2005, 'F'),\n",
      "            (2005, 'M'),\n",
      "            (2006, 'F'),\n",
      "            (2006, 'M'),\n",
      "            (2007, 'F'),\n",
      "            (2007, 'M'),\n",
      "            (2008, 'F'),\n",
      "            (2008, 'M'),\n",
      "            (2009, 'F'),\n",
      "            (2009, 'M'),\n",
      "            (2010, 'F'),\n",
      "            (2010, 'M'),\n",
      "            (2011, 'F'),\n",
      "            (2011, 'M'),\n",
      "            (2012, 'F'),\n",
      "            (2012, 'M'),\n",
      "            (2013, 'F'),\n",
      "            (2013, 'M'),\n",
      "            (2014, 'F'),\n",
      "            (2014, 'M')],\n",
      "           names=['Year', 'Gender'])\n"
     ]
    },
    {
     "data": {
      "image/png": "[encoded data removed]",
      "text/plain": [
       "<Figure size 720x432 with 1 Axes>"
      ]
     },
     "metadata": {
      "needs_background": "light"
     },
     "output_type": "display_data"
    }
   ],
   "source": [
    "year_gender_count = baby_names.groupby(['Year','Gender']).Count.sum()\n",
    "\n",
    "print (year_gender_count.index)\n",
    "\n",
    "# This is the X axis label \n",
    "years = np.arange(2004,2015)\n",
    "\n",
    "yearly_F = year_gender_count[:,'F']\n",
    "yearly_M = year_gender_count[:,'M']\n",
    "\n",
    "plt.figure(figsize=(10,6))\n",
    "\n",
    "plt.bar(years, yearly_M, color='blue', label='Boys')\n",
    "plt.bar(years, yearly_F, bottom=yearly_M, color='red', label='Girls')\n",
    "\n",
    "plt.xlabel('Year')\n",
    "plt.grid(True, which='both')\n",
    "plt.title('Total Birth by Gender and Year')\n",
    "plt.legend(loc='upper right')\n",
    "\n",
    "plt.show()"
   ]
  },
  {
   "cell_type": "markdown",
   "metadata": {},
   "source": [
    "<h3>Q5. Are there more male names or female names in the dataset?</h3>"
   ]
  },
  {
   "cell_type": "code",
   "execution_count": 6,
   "metadata": {},
   "outputs": [
    {
     "data": {
      "text/plain": [
       "F    558846\n",
       "M    457549\n",
       "Name: Gender, dtype: int64"
      ]
     },
     "execution_count": 6,
     "metadata": {},
     "output_type": "execute_result"
    }
   ],
   "source": [
    "baby_names['Gender'].value_counts()"
   ]
  },
  {
   "cell_type": "markdown",
   "metadata": {},
   "source": [
    "<h3>Q6. What is the most popular boy's name from 2004 to 2014? What is the most popular girl's name from 2004 to 2014?</h3>"
   ]
  },
  {
   "cell_type": "code",
   "execution_count": 7,
   "metadata": {},
   "outputs": [
    {
     "name": "stdout",
     "output_type": "stream",
     "text": [
      "         Year  Count\n",
      "Name                \n",
      "Aadhya  80515    453\n",
      "Aadya   72455    300\n",
      "Aahana  30165    124\n",
      "Aahna    2014      7\n",
      "Aaima    2013      5\n",
      "...       ...    ...\n",
      "Zyonna  22108     61\n",
      "Zyra    14085     42\n",
      "Zyrah    4024     11\n",
      "Zyria   20089     59\n",
      "Zyriah  18087     58\n",
      "\n",
      "[10929 rows x 2 columns]\n",
      "The most popular girl's name is Emma\n",
      "The most popular boy's name is Jacob\n"
     ]
    }
   ],
   "source": [
    "# Groupby \"Gender\" & Name\" then summation over the Count column data \n",
    "#names = baby_names.groupby(['Gender','Name']).sum()\n",
    "\n",
    "#names.Count.idxmax()  \n",
    "\n",
    "\n",
    "# Sort the \"Count\" column in descending order\n",
    "#a = names.sort_values('Count', ascending=False)\n",
    "\n",
    "girls = baby_names.groupby('Gender').get_group('F')\n",
    "girls_names = girls.groupby('Name').sum()\n",
    "print (girls_names)\n",
    "print (\"The most popular girl's name is\", girls_names.Count.idxmax())\n",
    "\n",
    "boys = baby_names.groupby('Gender').get_group('M')\n",
    "boys_names = boys.groupby('Name').sum()\n",
    "print (\"The most popular boy's name is\", boys_names.Count.idxmax())"
   ]
  },
  {
   "cell_type": "markdown",
   "metadata": {},
   "source": [
    "<h3>Q7. For the State of Texas, what was the most popular boy's name in 2005? How about girl's name?</h3>"
   ]
  },
  {
   "cell_type": "code",
   "execution_count": 8,
   "metadata": {
    "scrolled": true
   },
   "outputs": [
    {
     "name": "stdout",
     "output_type": "stream",
     "text": [
      "           Name  Year Gender State  Count\n",
      "849406    Emily  2005      F    TX   2480\n",
      "849407      Mia  2005      F    TX   1653\n",
      "849408  Madison  2005      F    TX   1621\n",
      "849409   Ashley  2005      F    TX   1587\n",
      "849410     Emma  2005      F    TX   1481\n",
      "...         ...   ...    ...   ...    ...\n",
      "890492     Zade  2005      M    TX      5\n",
      "890493    Zahir  2005      M    TX      5\n",
      "890494  Zakkery  2005      M    TX      5\n",
      "890495    Zarek  2005      M    TX      5\n",
      "890496   Zavian  2005      M    TX      5\n",
      "\n",
      "[5799 rows x 5 columns]\n",
      "The most popular girl's name in 2005 for Texas was Emily\n",
      "The most popular boy's name in 2005 for Texas was Jose\n"
     ]
    }
   ],
   "source": [
    "# There are basically three groups: Year, Gender and State\n",
    "#baby = baby_names.groupby(['Year','State','Name']).Count.sum()\n",
    "\n",
    "baby = baby_names.groupby(['Year','State']).get_group((2005, 'TX'))\n",
    "print (baby)\n",
    "\n",
    "girls = baby.groupby('Gender').get_group('F')\n",
    "\n",
    "girls_names = girls.groupby('Name').sum()\n",
    "\n",
    "print (\"The most popular girl's name in 2005 for Texas was\", girls_names.Count.idxmax())\n",
    "\n",
    "boys = baby.groupby('Gender').get_group('M')\n",
    "boys_names = boys.groupby('Name').sum()\n",
    "print (\"The most popular boy's name in 2005 for Texas was\", boys_names.Count.idxmax())"
   ]
  },
  {
   "cell_type": "markdown",
   "metadata": {},
   "source": [
    "<h3>Q8. Let's see how popular your name is in the US. </h3>\n",
    "\n",
    "<h3>How many babies in this data set have the same first name as you? </h3>"
   ]
  },
  {
   "cell_type": "code",
   "execution_count": 9,
   "metadata": {},
   "outputs": [
    {
     "name": "stdout",
     "output_type": "stream",
     "text": [
      "Number of babies named Johnny: 14498\n"
     ]
    }
   ],
   "source": [
    "bool_J = (baby_names['Name'] == 'Johnny')\n",
    "total_J = baby_names.loc[bool_J, 'Count'].sum()\n",
    "\n",
    "print (\"Number of babies named Johnny:\", total_J)"
   ]
  },
  {
   "cell_type": "markdown",
   "metadata": {},
   "source": [
    "## Part 2: The PIMA Diabetic Data Set (60 Points)\n",
    "\n",
    "This dataset is originally from the National Institute of Diabetes and Digestive and Kidney Diseases. It consists of several diagnostic measurements from female patients at least 21 years old of Pima Indian heritage. It also shows the diagnosis on whether the patients have diabetes mellitus disease.\n",
    "\n",
    "### The filename of the dataset is \"diabetes.csv\" that comes with this assignment.\n",
    "\n",
    "The dataset contains the following features/columns:\n",
    "\n",
    " * Pregnancies: Number of times pregnant\n",
    " * Glucose: Plasma glucose concentration at 2 hour in an oral glucose tolerance test (mg/dL)\n",
    " * BloodPressure: Diastolic blood pressure (mm Hg)\n",
    " * SkinThickness: Triceps skin fold thickness (mm)\n",
    " * Insulin: 2-hour serum insulin level (mu U/ml)\n",
    " * BMI: Body mass index (weight in kg/(height in m)^2)\n",
    " * DiabetesPedigreeFunction: a function which scores likelihood of diabetes based on family history\n",
    " * Age: age of patients (years)\n",
    " * Outcome: class variable 0 or 1 indicating disease (0: non-diabetic, 1: diabetic)\n"
   ]
  },
  {
   "cell_type": "markdown",
   "metadata": {},
   "source": [
    "## Part 2.1: Data Preparation and Cleaning (15 points)\n",
    "\n",
    "Some typical tasks in this part include:\n",
    " 1. Load the dataset in a data frame\n",
    " 2. Examine the dataset attributes: index, columns, range of values etc.\n",
    " 3. Handle missing and invalid data"
   ]
  },
  {
   "cell_type": "markdown",
   "metadata": {},
   "source": [
    "### Note: Mandatory work on handling missing data:\n",
    "   **Q1: Are there missing values in the data set? Write a code to find out.**\n",
    "   \n",
    "   **Q2: You may notice some of the columns have unreasonable zero values (for example, Glucose and BMI). Identify those columns and replace the zeros with the median value of that column.**"
   ]
  },
  {
   "cell_type": "code",
   "execution_count": 10,
   "metadata": {},
   "outputs": [
    {
     "name": "stdout",
     "output_type": "stream",
     "text": [
      "<class 'pandas.core.frame.DataFrame'>\n",
      "RangeIndex: 768 entries, 0 to 767\n",
      "Data columns (total 9 columns):\n",
      " #   Column                    Non-Null Count  Dtype  \n",
      "---  ------                    --------------  -----  \n",
      " 0   Pregnancies               768 non-null    int64  \n",
      " 1   Glucose                   768 non-null    int64  \n",
      " 2   BloodPressure             768 non-null    int64  \n",
      " 3   SkinThickness             768 non-null    int64  \n",
      " 4   Insulin                   768 non-null    int64  \n",
      " 5   BMI                       768 non-null    float64\n",
      " 6   DiabetesPedigreeFunction  768 non-null    float64\n",
      " 7   Age                       768 non-null    int64  \n",
      " 8   Outcome                   768 non-null    int64  \n",
      "dtypes: float64(2), int64(7)\n",
      "memory usage: 54.1 KB\n"
     ]
    },
    {
     "data": {
      "text/plain": [
       "Pregnancies                 0\n",
       "Glucose                     0\n",
       "BloodPressure               0\n",
       "SkinThickness               0\n",
       "Insulin                     0\n",
       "BMI                         0\n",
       "DiabetesPedigreeFunction    0\n",
       "Age                         0\n",
       "Outcome                     0\n",
       "dtype: int64"
      ]
     },
     "execution_count": 10,
     "metadata": {},
     "output_type": "execute_result"
    }
   ],
   "source": [
    "diabetes = pd.read_csv('diabetes.csv')\n",
    "diabetes.info()                            # Info to display\n",
    "\n",
    "diabetes.isna().sum()                      # no null/unreasonable values"
   ]
  },
  {
   "cell_type": "markdown",
   "metadata": {},
   "source": [
    "## Part 2.2: Exploratory Data Analysis and Visualization (20 points)\n",
    "\n",
    "You are expected to perform some basic data analysis and create **3 different charts**. Some examples are:\n",
    " * Distribution of numeric columns using histogram or bar charts;\n",
    " * Relationship between column data using scatter plots or pairplot.\n",
    "\n",
    "Please make comments on the insights from the exploratory analysis."
   ]
  },
  {
   "cell_type": "code",
   "execution_count": 11,
   "metadata": {},
   "outputs": [
    {
     "data": {
      "image/png": "[encoded data removed]",
      "text/plain": [
       "<Figure size 864x720 with 3 Axes>"
      ]
     },
     "metadata": {
      "needs_background": "light"
     },
     "output_type": "display_data"
    }
   ],
   "source": [
    "# This is setting up data for people with diabetes\n",
    "fig, ax = plt.subplots(nrows=3, ncols=1, figsize=(12, 10))\n",
    "fig.tight_layout(pad=3.0)\n",
    "\n",
    "ax[0].set_title('Age')                          # To my surprise, it seems young adult/middle age has \n",
    "ax[0].hist(diabetes.Age[diabetes.Outcome==1]);  # more cases of diabetes than the elderly\n",
    "\n",
    "ax[1].set_title('Blood Pressure')                         # Another interesting thing is that the people in this dataset\n",
    "ax[1].hist(diabetes.BloodPressure[diabetes.Outcome==1]);  # with diabetes have normal, healthy blood pressure ranges for the\n",
    "                                                          # part\n",
    "\n",
    "ax[2].set_title('BMI')                                 # My assumption was right on this one, higher BMI ranges\n",
    "ax[2].hist(diabetes.BMI[diabetes.Outcome==1]);         # do have a *correlation* (can't quite confirm causation) to diabetes"
   ]
  },
  {
   "cell_type": "markdown",
   "metadata": {},
   "source": [
    "## Part 2.3: In-Depth Analysis (25 points)\n",
    "\n",
    "In this section, you will come up with **three interesting questions** about the dataset and write codes to answer the questions. For example, you may analyze how individual feature (column data) impacts the outcome of the diagnosis.\n",
    "\n",
    "Some example questions:\n",
    " 1. Do older women have higher chances of getting diabetes? You may need to create a bar chart with women in different age groups and show the percentage and/or total number of diabetic vs. non-diabetic in each group.\n",
    " 2. Based on BMI data, how many of this group of patients are considered underweight, normal, overweight, obese (class I, II, and III)? You need to research to find out the definitions.\n",
    " 3. Does high glucose level mean high risk for diabetes? You may want to analyze the relationship between glucose level and the diagnosis outcome. "
   ]
  },
  {
   "cell_type": "markdown",
   "metadata": {},
   "source": [
    "### Background:\n",
    "\n",
    "It seems that general health factors such as age and blood pressure do not show clear correlation between a person's likelihood at having diabetes. However, BMI shows a very strong correlation between health and diabetes. The overweight range is 25-29.9 and the obese range is above 30 [1] which is where the concentration of people with diabetes lie.\n",
    "\n",
    "However, not enough data has been shown to conclude that diabetes is simply from weigth and lifestyle factos. Now I want to explore further to see what other physical and genetric factors play a role in a person's likelihood in getting diabetes.\n",
    "\n",
    "[1] Source: https://www.nhs.uk/common-health-questions/lifestyle/what-is-the-body-mass-index-bmi/#:~:text=BMI%20ranges&text=below%2018.5%20%E2%80%93%20you're%20in,re%20in%20the%20obese%20range"
   ]
  },
  {
   "cell_type": "markdown",
   "metadata": {},
   "source": [
    "**Question 1: Do insulin levels affect the likelihood of someone having diabetes?**\n",
    "\n",
    "First, I would like to explore deeper into the causes of diabetes. Insulin levels are a hormone in the human body which help in breaking down glucose. The levels of glucose in the human body can be affected by a combination of genetic family history and lifestyle choices [2]. \n",
    "\n",
    "[2] Source: https://pubmed.ncbi.nlm.nih.gov/12643127/\n",
    "\n",
    "\n",
    "\n",
    "**Question 2: Do glucose levels affect the likelihood of someone having diabetes?**\n",
    "\n",
    "If a strong correlation is shown between insulin levels and diabetes, then it is imperative that a strong correlation between glucose levels and diabetes is also shown. Glucose, also known as blood sugar, is the body's main source of energy. If the glucose levels are too high, then it can cause an array of health issues besides diabetes [3].\n",
    "\n",
    "[3] Source: https://medlineplus.gov/bloodsugar.html#:~:text=Blood%20sugar%2C%20or%20glucose%2C%20is,sugar%20levels%20are%20too%20high.\n",
    "\n",
    "\n",
    "\n",
    "**Question 3: Is diabetes genetic or environmental?**\n",
    "\n",
    "Assuming that a correlation between insulin levels and glucose levels have been confirmed, the last question is how much does genetic family history play a role in someone's likelihood in developing diabetes? It becoming increasingly prevalent that the risk of diabetes can be reduced with lifestyle changes, but how much risk does a person with a family history of diabetes possess [4]?\n",
    "\n",
    "[4] Source: https://www.ncbi.nlm.nih.gov/pmc/articles/PMC8306487/"
   ]
  },
  {
   "cell_type": "code",
   "execution_count": 12,
   "metadata": {},
   "outputs": [
    {
     "data": {
      "image/png": "[encoded data removed]",
      "text/plain": [
       "<Figure size 864x720 with 3 Axes>"
      ]
     },
     "metadata": {
      "needs_background": "light"
     },
     "output_type": "display_data"
    }
   ],
   "source": [
    "fig, ax = plt.subplots(nrows=3, ncols=1, figsize=(12, 10))\n",
    "fig.tight_layout(pad=3.0)\n",
    "\n",
    "ax[0].set_title('Insulin')\n",
    "ax[0].hist(diabetes.Insulin[diabetes.Outcome==1]);\n",
    "\n",
    "ax[1].set_title('Glucose')\n",
    "ax[1].hist(diabetes.Glucose[diabetes.Outcome==1]);\n",
    "\n",
    "ax[2].set_title('Diabetes Pedigree Function')\n",
    "ax[2].hist(diabetes.DiabetesPedigreeFunction[diabetes.Outcome==1]);"
   ]
  },
  {
   "cell_type": "markdown",
   "metadata": {},
   "source": [
    "### Conclusion:\n",
    "\n",
    "According to the data, diabetes is most likely linked to the body producing insufficient amounts of insulin and unable to regulate high amounts of glucose. BMI is a very general measurement of lifestyle and overall health, but a strong correlation between people with diabetes and people who are in the overweight and obese range has been shown. Likewise, changing one's lifestyle has been shown to increase insulin and reduce the likelihood of developing diabetes [2]. However, a correlation has been shown with people with diabetes and people with a family history of diabetes as well. Furthermore, evidence that genetic pedigree increases one's likelihood of developing diabetes has been shown as well [4]. In short, a person's likelihood of developing diabetes is more complex because it is affected by both genetic and environmental factors, but a person's lifestyle has a great impact on reducing the risk of diabetes."
   ]
  },
  {
   "cell_type": "code",
   "execution_count": null,
   "metadata": {},
   "outputs": [],
   "source": []
  }
 ],
 "metadata": {
  "kernelspec": {
   "display_name": "Python 3 (ipykernel)",
   "language": "python",
   "name": "python3"
  },
  "language_info": {
   "codemirror_mode": {
    "name": "ipython",
    "version": 3
   },
   "file_extension": ".py",
   "mimetype": "text/x-python",
   "name": "python",
   "nbconvert_exporter": "python",
   "pygments_lexer": "ipython3",
   "version": "3.9.7"
  }
 },
 "nbformat": 4,
 "nbformat_minor": 2
}
